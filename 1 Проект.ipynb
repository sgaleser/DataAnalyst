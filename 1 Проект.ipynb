{
 "cells": [
  {
   "cell_type": "markdown",
   "metadata": {},
   "source": [
    "<div style=\"border:solid green 3px; padding: 20px\">\n",
    "\n",
    "<b>Привет, Алкесей! :)</b>\n",
    "\n",
    "Меня зовут Сороколетов Илья и я буду проверять твой проект. \n",
    "\n",
    "Предлагаю общаться на «**ты**», но если тебе будет комфортнее общаться на «**вы**», то сообщи об этом в комментариях)\n",
    "\n",
    "\n",
    "Для твоего удобства, я буду выделять свои комментарии следующим образом:\n",
    "\n",
    "<div class=\"alert alert-danger\">\n",
    "<b>❌ Комментарий ревьюера:</b> Самые важные замечания. Они указывают на ключевые моменты, которые влияют на конечный результат проекта. </div>\n",
    "\n",
    "<div class=\"alert alert-warning\">\n",
    "<b>⚠️ Комментарий ревьюера:</b> Советы или замечания, которые помогут сделать твою работу лучше, но необязательны к выполнению.\n",
    "\n",
    "</div>\n",
    "\n",
    "<div class=\"alert alert-success\">\n",
    "<b>✔️ Комментарий ревьюера:</b> Так я выделяю все остальные комментарии.</div>\n",
    "\n",
    "Давай работать над проектом в диалоге: если ты что-то меняешь в проекте по моим рекомендациям — пиши об этом. Выбери для своих комментариев какой-то заметный цвет, так мне будет легче отследить изменения, например вот так:\n",
    "<div class=\"alert alert-info\">\n",
    "<b>Комментарий студента:</b>\n",
    "<br>\n",
    "</div>\n",
    "\n",
    "Пожалуйста, не перемещай, не изменяй и не удаляй мои комментарии. Всё это поможет выполнить повторную проверку твоего проекта оперативнее. \n",
    "\n",
    "Обязательно задавай вопросы если они возникнут, а я перехожу к проверке)"
   ]
  },
  {
   "cell_type": "markdown",
   "metadata": {
    "id": "E0vqbgi9ay0H"
   },
   "source": [
    "# Яндекс.Музыка"
   ]
  },
  {
   "cell_type": "markdown",
   "metadata": {
    "id": "VUC88oWjTJw2"
   },
   "source": [
    "Сравнение Москвы и Петербурга окружено мифами. Например:\n",
    " * Москва — мегаполис, подчинённый жёсткому ритму рабочей недели;\n",
    " * Петербург — культурная столица, со своими вкусами.\n",
    "\n",
    "На данных Яндекс.Музыки вы сравните поведение пользователей двух столиц.\n",
    "\n",
    "**Цель исследования** — проверьте три гипотезы:\n",
    "1. Активность пользователей зависит от дня недели. Причём в Москве и Петербурге это проявляется по-разному.\n",
    "2. В понедельник утром в Москве преобладают одни жанры, а в Петербурге — другие. Так же и вечером пятницы преобладают разные жанры — в зависимости от города. \n",
    "3. Москва и Петербург предпочитают разные жанры музыки. В Москве чаще слушают поп-музыку, в Петербурге — русский рэп.\n",
    "\n",
    "**Ход исследования**\n",
    "\n",
    "Данные о поведении пользователей вы получите из файла `yandex_music_project.csv`. О качестве данных ничего не известно. Поэтому перед проверкой гипотез понадобится обзор данных. \n",
    "\n",
    "Вы проверите данные на ошибки и оцените их влияние на исследование. Затем, на этапе предобработки вы поищете возможность исправить самые критичные ошибки данных.\n",
    " \n",
    "Таким образом, исследование пройдёт в три этапа:\n",
    " 1. Обзор данных.\n",
    " 2. Предобработка данных.\n",
    " 3. Проверка гипотез.\n",
    "\n"
   ]
  },
  {
   "cell_type": "markdown",
   "metadata": {
    "id": "Ml1hmfXC_Zcs"
   },
   "source": [
    "## Обзор данных\n",
    "\n",
    "Составьте первое представление о данных Яндекс.Музыки.\n",
    "\n",
    "\n"
   ]
  },
  {
   "cell_type": "markdown",
   "metadata": {
    "id": "57eAOGIz_Zcs"
   },
   "source": [
    "Основной инструмент аналитика — `pandas`. Импортируйте эту библиотеку."
   ]
  },
  {
   "cell_type": "code",
   "execution_count": 1,
   "metadata": {
    "id": "AXN7PHPN_Zcs"
   },
   "outputs": [],
   "source": [
    "# импорт библиотеки pandas\n",
    "import pandas as pd"
   ]
  },
  {
   "cell_type": "markdown",
   "metadata": {},
   "source": [
    "<div class=\"alert alert-success\">\n",
    "<b>✔️ Комментарий ревьюера:</b> \n",
    "<br>Очень здорово, что ты используешь сокращение pd для Pandas, это общепринятое сокращение для этой библиотеки для удобной дальнейшей работы.\n",
    "</div>"
   ]
  },
  {
   "cell_type": "markdown",
   "metadata": {
    "id": "SG23P8tt_Zcs"
   },
   "source": [
    "Прочитайте файл `yandex_music_project.csv` из папки `/datasets` и сохраните его в переменной `df`:"
   ]
  },
  {
   "cell_type": "code",
   "execution_count": 2,
   "metadata": {
    "id": "fFVu7vqh_Zct"
   },
   "outputs": [
    {
     "ename": "FileNotFoundError",
     "evalue": "[Errno 2] No such file or directory: '/datasets/yandex_music_project.csv'",
     "output_type": "error",
     "traceback": [
      "\u001b[1;31m---------------------------------------------------------------------------\u001b[0m",
      "\u001b[1;31mFileNotFoundError\u001b[0m                         Traceback (most recent call last)",
      "\u001b[1;32m~\\AppData\\Local\\Temp/ipykernel_19284/3939017438.py\u001b[0m in \u001b[0;36m<module>\u001b[1;34m\u001b[0m\n\u001b[0;32m      1\u001b[0m \u001b[1;31m# чтение файла с данными и сохранение в df\u001b[0m\u001b[1;33m\u001b[0m\u001b[1;33m\u001b[0m\u001b[0m\n\u001b[1;32m----> 2\u001b[1;33m \u001b[0mdf\u001b[0m \u001b[1;33m=\u001b[0m \u001b[0mpd\u001b[0m\u001b[1;33m.\u001b[0m\u001b[0mread_csv\u001b[0m\u001b[1;33m(\u001b[0m\u001b[1;34m'/datasets/yandex_music_project.csv'\u001b[0m\u001b[1;33m)\u001b[0m\u001b[1;33m\u001b[0m\u001b[1;33m\u001b[0m\u001b[0m\n\u001b[0m",
      "\u001b[1;32m~\\anaconda3\\lib\\site-packages\\pandas\\util\\_decorators.py\u001b[0m in \u001b[0;36mwrapper\u001b[1;34m(*args, **kwargs)\u001b[0m\n\u001b[0;32m    309\u001b[0m                     \u001b[0mstacklevel\u001b[0m\u001b[1;33m=\u001b[0m\u001b[0mstacklevel\u001b[0m\u001b[1;33m,\u001b[0m\u001b[1;33m\u001b[0m\u001b[1;33m\u001b[0m\u001b[0m\n\u001b[0;32m    310\u001b[0m                 )\n\u001b[1;32m--> 311\u001b[1;33m             \u001b[1;32mreturn\u001b[0m \u001b[0mfunc\u001b[0m\u001b[1;33m(\u001b[0m\u001b[1;33m*\u001b[0m\u001b[0margs\u001b[0m\u001b[1;33m,\u001b[0m \u001b[1;33m**\u001b[0m\u001b[0mkwargs\u001b[0m\u001b[1;33m)\u001b[0m\u001b[1;33m\u001b[0m\u001b[1;33m\u001b[0m\u001b[0m\n\u001b[0m\u001b[0;32m    312\u001b[0m \u001b[1;33m\u001b[0m\u001b[0m\n\u001b[0;32m    313\u001b[0m         \u001b[1;32mreturn\u001b[0m \u001b[0mwrapper\u001b[0m\u001b[1;33m\u001b[0m\u001b[1;33m\u001b[0m\u001b[0m\n",
      "\u001b[1;32m~\\anaconda3\\lib\\site-packages\\pandas\\io\\parsers\\readers.py\u001b[0m in \u001b[0;36mread_csv\u001b[1;34m(filepath_or_buffer, sep, delimiter, header, names, index_col, usecols, squeeze, prefix, mangle_dupe_cols, dtype, engine, converters, true_values, false_values, skipinitialspace, skiprows, skipfooter, nrows, na_values, keep_default_na, na_filter, verbose, skip_blank_lines, parse_dates, infer_datetime_format, keep_date_col, date_parser, dayfirst, cache_dates, iterator, chunksize, compression, thousands, decimal, lineterminator, quotechar, quoting, doublequote, escapechar, comment, encoding, encoding_errors, dialect, error_bad_lines, warn_bad_lines, on_bad_lines, delim_whitespace, low_memory, memory_map, float_precision, storage_options)\u001b[0m\n\u001b[0;32m    584\u001b[0m     \u001b[0mkwds\u001b[0m\u001b[1;33m.\u001b[0m\u001b[0mupdate\u001b[0m\u001b[1;33m(\u001b[0m\u001b[0mkwds_defaults\u001b[0m\u001b[1;33m)\u001b[0m\u001b[1;33m\u001b[0m\u001b[1;33m\u001b[0m\u001b[0m\n\u001b[0;32m    585\u001b[0m \u001b[1;33m\u001b[0m\u001b[0m\n\u001b[1;32m--> 586\u001b[1;33m     \u001b[1;32mreturn\u001b[0m \u001b[0m_read\u001b[0m\u001b[1;33m(\u001b[0m\u001b[0mfilepath_or_buffer\u001b[0m\u001b[1;33m,\u001b[0m \u001b[0mkwds\u001b[0m\u001b[1;33m)\u001b[0m\u001b[1;33m\u001b[0m\u001b[1;33m\u001b[0m\u001b[0m\n\u001b[0m\u001b[0;32m    587\u001b[0m \u001b[1;33m\u001b[0m\u001b[0m\n\u001b[0;32m    588\u001b[0m \u001b[1;33m\u001b[0m\u001b[0m\n",
      "\u001b[1;32m~\\anaconda3\\lib\\site-packages\\pandas\\io\\parsers\\readers.py\u001b[0m in \u001b[0;36m_read\u001b[1;34m(filepath_or_buffer, kwds)\u001b[0m\n\u001b[0;32m    480\u001b[0m \u001b[1;33m\u001b[0m\u001b[0m\n\u001b[0;32m    481\u001b[0m     \u001b[1;31m# Create the parser.\u001b[0m\u001b[1;33m\u001b[0m\u001b[1;33m\u001b[0m\u001b[0m\n\u001b[1;32m--> 482\u001b[1;33m     \u001b[0mparser\u001b[0m \u001b[1;33m=\u001b[0m \u001b[0mTextFileReader\u001b[0m\u001b[1;33m(\u001b[0m\u001b[0mfilepath_or_buffer\u001b[0m\u001b[1;33m,\u001b[0m \u001b[1;33m**\u001b[0m\u001b[0mkwds\u001b[0m\u001b[1;33m)\u001b[0m\u001b[1;33m\u001b[0m\u001b[1;33m\u001b[0m\u001b[0m\n\u001b[0m\u001b[0;32m    483\u001b[0m \u001b[1;33m\u001b[0m\u001b[0m\n\u001b[0;32m    484\u001b[0m     \u001b[1;32mif\u001b[0m \u001b[0mchunksize\u001b[0m \u001b[1;32mor\u001b[0m \u001b[0miterator\u001b[0m\u001b[1;33m:\u001b[0m\u001b[1;33m\u001b[0m\u001b[1;33m\u001b[0m\u001b[0m\n",
      "\u001b[1;32m~\\anaconda3\\lib\\site-packages\\pandas\\io\\parsers\\readers.py\u001b[0m in \u001b[0;36m__init__\u001b[1;34m(self, f, engine, **kwds)\u001b[0m\n\u001b[0;32m    809\u001b[0m             \u001b[0mself\u001b[0m\u001b[1;33m.\u001b[0m\u001b[0moptions\u001b[0m\u001b[1;33m[\u001b[0m\u001b[1;34m\"has_index_names\"\u001b[0m\u001b[1;33m]\u001b[0m \u001b[1;33m=\u001b[0m \u001b[0mkwds\u001b[0m\u001b[1;33m[\u001b[0m\u001b[1;34m\"has_index_names\"\u001b[0m\u001b[1;33m]\u001b[0m\u001b[1;33m\u001b[0m\u001b[1;33m\u001b[0m\u001b[0m\n\u001b[0;32m    810\u001b[0m \u001b[1;33m\u001b[0m\u001b[0m\n\u001b[1;32m--> 811\u001b[1;33m         \u001b[0mself\u001b[0m\u001b[1;33m.\u001b[0m\u001b[0m_engine\u001b[0m \u001b[1;33m=\u001b[0m \u001b[0mself\u001b[0m\u001b[1;33m.\u001b[0m\u001b[0m_make_engine\u001b[0m\u001b[1;33m(\u001b[0m\u001b[0mself\u001b[0m\u001b[1;33m.\u001b[0m\u001b[0mengine\u001b[0m\u001b[1;33m)\u001b[0m\u001b[1;33m\u001b[0m\u001b[1;33m\u001b[0m\u001b[0m\n\u001b[0m\u001b[0;32m    812\u001b[0m \u001b[1;33m\u001b[0m\u001b[0m\n\u001b[0;32m    813\u001b[0m     \u001b[1;32mdef\u001b[0m \u001b[0mclose\u001b[0m\u001b[1;33m(\u001b[0m\u001b[0mself\u001b[0m\u001b[1;33m)\u001b[0m\u001b[1;33m:\u001b[0m\u001b[1;33m\u001b[0m\u001b[1;33m\u001b[0m\u001b[0m\n",
      "\u001b[1;32m~\\anaconda3\\lib\\site-packages\\pandas\\io\\parsers\\readers.py\u001b[0m in \u001b[0;36m_make_engine\u001b[1;34m(self, engine)\u001b[0m\n\u001b[0;32m   1038\u001b[0m             )\n\u001b[0;32m   1039\u001b[0m         \u001b[1;31m# error: Too many arguments for \"ParserBase\"\u001b[0m\u001b[1;33m\u001b[0m\u001b[1;33m\u001b[0m\u001b[0m\n\u001b[1;32m-> 1040\u001b[1;33m         \u001b[1;32mreturn\u001b[0m \u001b[0mmapping\u001b[0m\u001b[1;33m[\u001b[0m\u001b[0mengine\u001b[0m\u001b[1;33m]\u001b[0m\u001b[1;33m(\u001b[0m\u001b[0mself\u001b[0m\u001b[1;33m.\u001b[0m\u001b[0mf\u001b[0m\u001b[1;33m,\u001b[0m \u001b[1;33m**\u001b[0m\u001b[0mself\u001b[0m\u001b[1;33m.\u001b[0m\u001b[0moptions\u001b[0m\u001b[1;33m)\u001b[0m  \u001b[1;31m# type: ignore[call-arg]\u001b[0m\u001b[1;33m\u001b[0m\u001b[1;33m\u001b[0m\u001b[0m\n\u001b[0m\u001b[0;32m   1041\u001b[0m \u001b[1;33m\u001b[0m\u001b[0m\n\u001b[0;32m   1042\u001b[0m     \u001b[1;32mdef\u001b[0m \u001b[0m_failover_to_python\u001b[0m\u001b[1;33m(\u001b[0m\u001b[0mself\u001b[0m\u001b[1;33m)\u001b[0m\u001b[1;33m:\u001b[0m\u001b[1;33m\u001b[0m\u001b[1;33m\u001b[0m\u001b[0m\n",
      "\u001b[1;32m~\\anaconda3\\lib\\site-packages\\pandas\\io\\parsers\\c_parser_wrapper.py\u001b[0m in \u001b[0;36m__init__\u001b[1;34m(self, src, **kwds)\u001b[0m\n\u001b[0;32m     49\u001b[0m \u001b[1;33m\u001b[0m\u001b[0m\n\u001b[0;32m     50\u001b[0m         \u001b[1;31m# open handles\u001b[0m\u001b[1;33m\u001b[0m\u001b[1;33m\u001b[0m\u001b[0m\n\u001b[1;32m---> 51\u001b[1;33m         \u001b[0mself\u001b[0m\u001b[1;33m.\u001b[0m\u001b[0m_open_handles\u001b[0m\u001b[1;33m(\u001b[0m\u001b[0msrc\u001b[0m\u001b[1;33m,\u001b[0m \u001b[0mkwds\u001b[0m\u001b[1;33m)\u001b[0m\u001b[1;33m\u001b[0m\u001b[1;33m\u001b[0m\u001b[0m\n\u001b[0m\u001b[0;32m     52\u001b[0m         \u001b[1;32massert\u001b[0m \u001b[0mself\u001b[0m\u001b[1;33m.\u001b[0m\u001b[0mhandles\u001b[0m \u001b[1;32mis\u001b[0m \u001b[1;32mnot\u001b[0m \u001b[1;32mNone\u001b[0m\u001b[1;33m\u001b[0m\u001b[1;33m\u001b[0m\u001b[0m\n\u001b[0;32m     53\u001b[0m \u001b[1;33m\u001b[0m\u001b[0m\n",
      "\u001b[1;32m~\\anaconda3\\lib\\site-packages\\pandas\\io\\parsers\\base_parser.py\u001b[0m in \u001b[0;36m_open_handles\u001b[1;34m(self, src, kwds)\u001b[0m\n\u001b[0;32m    220\u001b[0m         \u001b[0mLet\u001b[0m \u001b[0mthe\u001b[0m \u001b[0mreaders\u001b[0m \u001b[0mopen\u001b[0m \u001b[0mIOHandles\u001b[0m \u001b[0mafter\u001b[0m \u001b[0mthey\u001b[0m \u001b[0mare\u001b[0m \u001b[0mdone\u001b[0m \u001b[1;32mwith\u001b[0m \u001b[0mtheir\u001b[0m \u001b[0mpotential\u001b[0m \u001b[0mraises\u001b[0m\u001b[1;33m.\u001b[0m\u001b[1;33m\u001b[0m\u001b[1;33m\u001b[0m\u001b[0m\n\u001b[0;32m    221\u001b[0m         \"\"\"\n\u001b[1;32m--> 222\u001b[1;33m         self.handles = get_handle(\n\u001b[0m\u001b[0;32m    223\u001b[0m             \u001b[0msrc\u001b[0m\u001b[1;33m,\u001b[0m\u001b[1;33m\u001b[0m\u001b[1;33m\u001b[0m\u001b[0m\n\u001b[0;32m    224\u001b[0m             \u001b[1;34m\"r\"\u001b[0m\u001b[1;33m,\u001b[0m\u001b[1;33m\u001b[0m\u001b[1;33m\u001b[0m\u001b[0m\n",
      "\u001b[1;32m~\\anaconda3\\lib\\site-packages\\pandas\\io\\common.py\u001b[0m in \u001b[0;36mget_handle\u001b[1;34m(path_or_buf, mode, encoding, compression, memory_map, is_text, errors, storage_options)\u001b[0m\n\u001b[0;32m    700\u001b[0m         \u001b[1;32mif\u001b[0m \u001b[0mioargs\u001b[0m\u001b[1;33m.\u001b[0m\u001b[0mencoding\u001b[0m \u001b[1;32mand\u001b[0m \u001b[1;34m\"b\"\u001b[0m \u001b[1;32mnot\u001b[0m \u001b[1;32min\u001b[0m \u001b[0mioargs\u001b[0m\u001b[1;33m.\u001b[0m\u001b[0mmode\u001b[0m\u001b[1;33m:\u001b[0m\u001b[1;33m\u001b[0m\u001b[1;33m\u001b[0m\u001b[0m\n\u001b[0;32m    701\u001b[0m             \u001b[1;31m# Encoding\u001b[0m\u001b[1;33m\u001b[0m\u001b[1;33m\u001b[0m\u001b[0m\n\u001b[1;32m--> 702\u001b[1;33m             handle = open(\n\u001b[0m\u001b[0;32m    703\u001b[0m                 \u001b[0mhandle\u001b[0m\u001b[1;33m,\u001b[0m\u001b[1;33m\u001b[0m\u001b[1;33m\u001b[0m\u001b[0m\n\u001b[0;32m    704\u001b[0m                 \u001b[0mioargs\u001b[0m\u001b[1;33m.\u001b[0m\u001b[0mmode\u001b[0m\u001b[1;33m,\u001b[0m\u001b[1;33m\u001b[0m\u001b[1;33m\u001b[0m\u001b[0m\n",
      "\u001b[1;31mFileNotFoundError\u001b[0m: [Errno 2] No such file or directory: '/datasets/yandex_music_project.csv'"
     ]
    }
   ],
   "source": [
    "# чтение файла с данными и сохранение в df\n",
    "df = pd.read_csv('/datasets/yandex_music_project.csv') "
   ]
  },
  {
   "cell_type": "markdown",
   "metadata": {
    "id": "rDoOMd3uTqnZ"
   },
   "source": [
    "Выведите на экран первые десять строк таблицы:"
   ]
  },
  {
   "cell_type": "code",
   "execution_count": 3,
   "metadata": {
    "id": "oWTVX3gW_Zct"
   },
   "outputs": [
    {
     "name": "stdout",
     "output_type": "stream",
     "text": [
      "     userID                        Track            artist   genre  \\\n",
      "0  FFB692EC            Kamigata To Boots  The Mass Missile    rock   \n",
      "1  55204538  Delayed Because of Accident  Andreas Rönnberg    rock   \n",
      "2    20EC38            Funiculì funiculà       Mario Lanza     pop   \n",
      "3  A3DD03C9        Dragons in the Sunset        Fire + Ice    folk   \n",
      "4  E2DC1FAE                  Soul People        Space Echo   dance   \n",
      "5  842029A1                    Преданная         IMPERVTOR  rusrap   \n",
      "6  4CB90AA5                         True      Roman Messer   dance   \n",
      "7  F03E1C1F             Feeling This Way   Polina Griffith   dance   \n",
      "8  8FA1D3BE     И вновь продолжается бой               NaN  ruspop   \n",
      "9  E772D5C0                    Pessimist               NaN   dance   \n",
      "\n",
      "             City        time        Day  \n",
      "0  Saint-Petersburg  20:28:33  Wednesday  \n",
      "1            Moscow  14:07:09     Friday  \n",
      "2  Saint-Petersburg  20:58:07  Wednesday  \n",
      "3  Saint-Petersburg  08:37:09     Monday  \n",
      "4            Moscow  08:34:34     Monday  \n",
      "5  Saint-Petersburg  13:09:41     Friday  \n",
      "6            Moscow  13:00:07  Wednesday  \n",
      "7            Moscow  20:47:49  Wednesday  \n",
      "8            Moscow  09:17:40     Friday  \n",
      "9  Saint-Petersburg  21:20:49  Wednesday  \n"
     ]
    }
   ],
   "source": [
    "# получение первых 10 строк таблицы df\n",
    "print(df.head(10))"
   ]
  },
  {
   "cell_type": "markdown",
   "metadata": {},
   "source": [
    "<div class=\"alert alert-warning\">\n",
    "<b>⚠️ Комментарий ревьюера:</b> \n",
    "<br>Здесь функция print() не нужна\n",
    "</div>"
   ]
  },
  {
   "cell_type": "markdown",
   "metadata": {
    "id": "EO73Kwic_Zct"
   },
   "source": [
    "Одной командой получить общую информацию о таблице:"
   ]
  },
  {
   "cell_type": "code",
   "execution_count": 4,
   "metadata": {
    "id": "DSf2kIb-_Zct",
    "scrolled": true
   },
   "outputs": [
    {
     "name": "stdout",
     "output_type": "stream",
     "text": [
      "<class 'pandas.core.frame.DataFrame'>\n",
      "RangeIndex: 65079 entries, 0 to 65078\n",
      "Data columns (total 7 columns):\n",
      "  userID    65079 non-null object\n",
      "Track       63848 non-null object\n",
      "artist      57876 non-null object\n",
      "genre       63881 non-null object\n",
      "  City      65079 non-null object\n",
      "time        65079 non-null object\n",
      "Day         65079 non-null object\n",
      "dtypes: object(7)\n",
      "memory usage: 3.5+ MB\n"
     ]
    }
   ],
   "source": [
    "# получение общей информации о данных в таблице df\n",
    "df.info()"
   ]
  },
  {
   "cell_type": "markdown",
   "metadata": {
    "id": "TaQ2Iwbr_Zct"
   },
   "source": [
    "Итак, в таблице семь столбцов. Тип данных во всех столбцах — `object`.\n",
    "\n",
    "Согласно документации к данным:\n",
    "* `userID` — идентификатор пользователя;\n",
    "* `Track` — название трека;  \n",
    "* `artist` — имя исполнителя;\n",
    "* `genre` — название жанра;\n",
    "* `City` — город пользователя;\n",
    "* `time` — время начала прослушивания;\n",
    "* `Day` — день недели.\n",
    "\n",
    "В названиях колонок видны три нарушения стиля:\n",
    "1. Строчные буквы сочетаются с прописными.\n",
    "2. Встречаются пробелы.\n",
    "3. Найдите ещё одну проблему в названии колонок и опишите её в этом пункте.\n",
    "\n",
    "\n",
    "\n",
    "Количество значений в столбцах различается. Значит, в данных есть пропущенные значения.\n"
   ]
  },
  {
   "cell_type": "markdown",
   "metadata": {},
   "source": [
    "<div class=\"alert alert-danger\">\n",
    "<b>❌ Комментарий ревьюера:</b> \n",
    "<br>Ты пропустил ответ на вопрос в пункте 3\n",
    "</div>"
   ]
  },
  {
   "cell_type": "markdown",
   "metadata": {
    "id": "MCB6-dXG_Zct"
   },
   "source": [
    "**Выводы**\n",
    "\n",
    "В каждой строке таблицы — данные о прослушанном треке. Часть колонок описывает саму композицию: название, исполнителя и жанр. Остальные данные рассказывают о пользователе: из какого он города, когда он слушал музыку. \n",
    "\n",
    "Предварительно можно утверждать, что, данных достаточно для проверки гипотез. Но встречаются пропуски в данных, а в названиях колонок — расхождения с хорошим стилем.\n",
    "\n",
    "Чтобы двигаться дальше, нужно устранить проблемы в данных."
   ]
  },
  {
   "cell_type": "markdown",
   "metadata": {
    "id": "SjYF6Ub9_Zct"
   },
   "source": [
    "## Предобработка данных\n",
    "Исправьте стиль в заголовках столбцов, исключите пропуски. Затем проверьте данные на дубликаты."
   ]
  },
  {
   "cell_type": "markdown",
   "metadata": {
    "id": "dIaKXr29_Zct"
   },
   "source": [
    "### Стиль заголовков\n",
    "Выведите на экран названия столбцов:"
   ]
  },
  {
   "cell_type": "code",
   "execution_count": 5,
   "metadata": {
    "id": "oKOTdF_Q_Zct"
   },
   "outputs": [
    {
     "name": "stdout",
     "output_type": "stream",
     "text": [
      "Index(['  userID', 'Track', 'artist', 'genre', '  City  ', 'time', 'Day'], dtype='object')\n"
     ]
    }
   ],
   "source": [
    "# перечень названий столбцов таблицы df\n",
    "print(df.columns)"
   ]
  },
  {
   "cell_type": "markdown",
   "metadata": {},
   "source": [
    "<div class=\"alert alert-warning\">\n",
    "<b>⚠️ Комментарий ревьюера:</b> \n",
    "<br>Для вывода столбцов на экран здесь не нужно использовать функцию print(): результат и так будет выведен, так как это последняя строчка ячейки.\n",
    "</div>"
   ]
  },
  {
   "cell_type": "markdown",
   "metadata": {
    "id": "zj5534cv_Zct"
   },
   "source": [
    "Приведите названия в соответствие с хорошим стилем:\n",
    "* несколько слов в названии запишите в «змеином_регистре»,\n",
    "* все символы сделайте строчными,\n",
    "* устраните пробелы.\n",
    "\n",
    "Для этого переименуйте колонки так:\n",
    "* `'  userID'` → `'user_id'`;\n",
    "* `'Track'` → `'track'`;\n",
    "* `'  City  '` → `'city'`;\n",
    "* `'Day'` → `'day'`."
   ]
  },
  {
   "cell_type": "code",
   "execution_count": 6,
   "metadata": {
    "id": "ISlFqs5y_Zct"
   },
   "outputs": [],
   "source": [
    "# переименование столбцов\n",
    "df = df.rename(columns={'  userID' : 'user_id', 'Track' : 'track', '  City  ' : 'city', 'Day' : 'day'})"
   ]
  },
  {
   "cell_type": "markdown",
   "metadata": {
    "id": "1dqbh00J_Zct"
   },
   "source": [
    "Проверьте результат. Для этого ещё раз выведите на экран названия столбцов:"
   ]
  },
  {
   "cell_type": "code",
   "execution_count": 7,
   "metadata": {
    "id": "d4NOAmTW_Zct"
   },
   "outputs": [
    {
     "data": {
      "text/plain": [
       "Index(['user_id', 'track', 'artist', 'genre', 'city', 'time', 'day'], dtype='object')"
      ]
     },
     "execution_count": 7,
     "metadata": {},
     "output_type": "execute_result"
    }
   ],
   "source": [
    "# проверка результатов - перечень названий столбцов\n",
    "df.columns"
   ]
  },
  {
   "cell_type": "markdown",
   "metadata": {
    "id": "5ISfbcfY_Zct"
   },
   "source": [
    "### Пропуски значений\n",
    "Сначала посчитайте, сколько в таблице пропущенных значений. Для этого достаточно двух методов `pandas`:"
   ]
  },
  {
   "cell_type": "code",
   "execution_count": 8,
   "metadata": {
    "id": "RskX29qr_Zct"
   },
   "outputs": [
    {
     "data": {
      "text/plain": [
       "user_id       0\n",
       "track      1231\n",
       "artist     7203\n",
       "genre      1198\n",
       "city          0\n",
       "time          0\n",
       "day           0\n",
       "dtype: int64"
      ]
     },
     "execution_count": 8,
     "metadata": {},
     "output_type": "execute_result"
    }
   ],
   "source": [
    "# подсчёт пропусков\n",
    "df.isna().sum()"
   ]
  },
  {
   "cell_type": "markdown",
   "metadata": {
    "id": "qubhgnlO_Zct"
   },
   "source": [
    "Не все пропущенные значения влияют на исследование. Так в `track` и `artist` пропуски не важны для вашей работы. Достаточно заменить их явными обозначениями.\n",
    "\n",
    "Но пропуски в `genre` могут помешать сравнению музыкальных вкусов в Москве и Санкт-Петербурге. На практике было бы правильно установить причину пропусков и восстановить данные. Такой возможности нет в учебном проекте. Придётся:\n",
    "* заполнить и эти пропуски явными обозначениями,\n",
    "* оценить, насколько они повредят расчётам. "
   ]
  },
  {
   "cell_type": "markdown",
   "metadata": {
    "id": "fSv2laPA_Zct"
   },
   "source": [
    "Замените пропущенные значения в столбцах `track`, `artist` и `genre` на строку `'unknown'`. Для этого создайте список `columns_to_replace`, переберите его элементы циклом `for` и для каждого столбца выполните замену пропущенных значений:"
   ]
  },
  {
   "cell_type": "code",
   "execution_count": 9,
   "metadata": {
    "id": "KplB5qWs_Zct"
   },
   "outputs": [
    {
     "data": {
      "text/html": [
       "<div>\n",
       "<style scoped>\n",
       "    .dataframe tbody tr th:only-of-type {\n",
       "        vertical-align: middle;\n",
       "    }\n",
       "\n",
       "    .dataframe tbody tr th {\n",
       "        vertical-align: top;\n",
       "    }\n",
       "\n",
       "    .dataframe thead th {\n",
       "        text-align: right;\n",
       "    }\n",
       "</style>\n",
       "<table border=\"1\" class=\"dataframe\">\n",
       "  <thead>\n",
       "    <tr style=\"text-align: right;\">\n",
       "      <th></th>\n",
       "      <th>user_id</th>\n",
       "      <th>track</th>\n",
       "      <th>artist</th>\n",
       "      <th>genre</th>\n",
       "      <th>city</th>\n",
       "      <th>time</th>\n",
       "      <th>day</th>\n",
       "    </tr>\n",
       "  </thead>\n",
       "  <tbody>\n",
       "    <tr>\n",
       "      <td>0</td>\n",
       "      <td>FFB692EC</td>\n",
       "      <td>Kamigata To Boots</td>\n",
       "      <td>The Mass Missile</td>\n",
       "      <td>rock</td>\n",
       "      <td>Saint-Petersburg</td>\n",
       "      <td>20:28:33</td>\n",
       "      <td>Wednesday</td>\n",
       "    </tr>\n",
       "    <tr>\n",
       "      <td>1</td>\n",
       "      <td>55204538</td>\n",
       "      <td>Delayed Because of Accident</td>\n",
       "      <td>Andreas Rönnberg</td>\n",
       "      <td>rock</td>\n",
       "      <td>Moscow</td>\n",
       "      <td>14:07:09</td>\n",
       "      <td>Friday</td>\n",
       "    </tr>\n",
       "    <tr>\n",
       "      <td>2</td>\n",
       "      <td>20EC38</td>\n",
       "      <td>Funiculì funiculà</td>\n",
       "      <td>Mario Lanza</td>\n",
       "      <td>pop</td>\n",
       "      <td>Saint-Petersburg</td>\n",
       "      <td>20:58:07</td>\n",
       "      <td>Wednesday</td>\n",
       "    </tr>\n",
       "    <tr>\n",
       "      <td>3</td>\n",
       "      <td>A3DD03C9</td>\n",
       "      <td>Dragons in the Sunset</td>\n",
       "      <td>Fire + Ice</td>\n",
       "      <td>folk</td>\n",
       "      <td>Saint-Petersburg</td>\n",
       "      <td>08:37:09</td>\n",
       "      <td>Monday</td>\n",
       "    </tr>\n",
       "    <tr>\n",
       "      <td>4</td>\n",
       "      <td>E2DC1FAE</td>\n",
       "      <td>Soul People</td>\n",
       "      <td>Space Echo</td>\n",
       "      <td>dance</td>\n",
       "      <td>Moscow</td>\n",
       "      <td>08:34:34</td>\n",
       "      <td>Monday</td>\n",
       "    </tr>\n",
       "    <tr>\n",
       "      <td>5</td>\n",
       "      <td>842029A1</td>\n",
       "      <td>Преданная</td>\n",
       "      <td>IMPERVTOR</td>\n",
       "      <td>rusrap</td>\n",
       "      <td>Saint-Petersburg</td>\n",
       "      <td>13:09:41</td>\n",
       "      <td>Friday</td>\n",
       "    </tr>\n",
       "    <tr>\n",
       "      <td>6</td>\n",
       "      <td>4CB90AA5</td>\n",
       "      <td>True</td>\n",
       "      <td>Roman Messer</td>\n",
       "      <td>dance</td>\n",
       "      <td>Moscow</td>\n",
       "      <td>13:00:07</td>\n",
       "      <td>Wednesday</td>\n",
       "    </tr>\n",
       "    <tr>\n",
       "      <td>7</td>\n",
       "      <td>F03E1C1F</td>\n",
       "      <td>Feeling This Way</td>\n",
       "      <td>Polina Griffith</td>\n",
       "      <td>dance</td>\n",
       "      <td>Moscow</td>\n",
       "      <td>20:47:49</td>\n",
       "      <td>Wednesday</td>\n",
       "    </tr>\n",
       "    <tr>\n",
       "      <td>8</td>\n",
       "      <td>8FA1D3BE</td>\n",
       "      <td>И вновь продолжается бой</td>\n",
       "      <td>unknown</td>\n",
       "      <td>ruspop</td>\n",
       "      <td>Moscow</td>\n",
       "      <td>09:17:40</td>\n",
       "      <td>Friday</td>\n",
       "    </tr>\n",
       "    <tr>\n",
       "      <td>9</td>\n",
       "      <td>E772D5C0</td>\n",
       "      <td>Pessimist</td>\n",
       "      <td>unknown</td>\n",
       "      <td>dance</td>\n",
       "      <td>Saint-Petersburg</td>\n",
       "      <td>21:20:49</td>\n",
       "      <td>Wednesday</td>\n",
       "    </tr>\n",
       "    <tr>\n",
       "      <td>10</td>\n",
       "      <td>BC5A3A29</td>\n",
       "      <td>Gool la Mita</td>\n",
       "      <td>Shireen Abdul Wahab</td>\n",
       "      <td>world</td>\n",
       "      <td>Moscow</td>\n",
       "      <td>14:08:42</td>\n",
       "      <td>Monday</td>\n",
       "    </tr>\n",
       "    <tr>\n",
       "      <td>11</td>\n",
       "      <td>8B5192C0</td>\n",
       "      <td>Is There Anybody Out There? (Panoramic Paralys...</td>\n",
       "      <td>Pink Floyd Floydhead</td>\n",
       "      <td>electronic</td>\n",
       "      <td>Moscow</td>\n",
       "      <td>13:47:49</td>\n",
       "      <td>Monday</td>\n",
       "    </tr>\n",
       "    <tr>\n",
       "      <td>12</td>\n",
       "      <td>FF3FD2BD</td>\n",
       "      <td>Мина син генэ кирэк</td>\n",
       "      <td>Ильдар Хакимов</td>\n",
       "      <td>pop</td>\n",
       "      <td>Moscow</td>\n",
       "      <td>09:19:49</td>\n",
       "      <td>Monday</td>\n",
       "    </tr>\n",
       "    <tr>\n",
       "      <td>13</td>\n",
       "      <td>CC782B0F</td>\n",
       "      <td>After School Special</td>\n",
       "      <td>Detroit Grand Pubahs</td>\n",
       "      <td>dance</td>\n",
       "      <td>Moscow</td>\n",
       "      <td>20:04:12</td>\n",
       "      <td>Friday</td>\n",
       "    </tr>\n",
       "    <tr>\n",
       "      <td>14</td>\n",
       "      <td>94EB25C2</td>\n",
       "      <td>Make Love Whenever You Can</td>\n",
       "      <td>Arabesque</td>\n",
       "      <td>pop</td>\n",
       "      <td>Saint-Petersburg</td>\n",
       "      <td>13:22:08</td>\n",
       "      <td>Wednesday</td>\n",
       "    </tr>\n",
       "    <tr>\n",
       "      <td>15</td>\n",
       "      <td>E3C5756F</td>\n",
       "      <td>unknown</td>\n",
       "      <td>unknown</td>\n",
       "      <td>unknown</td>\n",
       "      <td>Moscow</td>\n",
       "      <td>09:24:51</td>\n",
       "      <td>Monday</td>\n",
       "    </tr>\n",
       "    <tr>\n",
       "      <td>16</td>\n",
       "      <td>81D05C7D</td>\n",
       "      <td>SLAVES OF FEAR</td>\n",
       "      <td>HEALTH</td>\n",
       "      <td>alternative</td>\n",
       "      <td>Saint-Petersburg</td>\n",
       "      <td>20:54:48</td>\n",
       "      <td>Monday</td>\n",
       "    </tr>\n",
       "    <tr>\n",
       "      <td>17</td>\n",
       "      <td>39DE290E</td>\n",
       "      <td>Веснянка</td>\n",
       "      <td>Веданъ Колодъ</td>\n",
       "      <td>folk</td>\n",
       "      <td>Saint-Petersburg</td>\n",
       "      <td>14:36:47</td>\n",
       "      <td>Monday</td>\n",
       "    </tr>\n",
       "    <tr>\n",
       "      <td>18</td>\n",
       "      <td>58AE138A</td>\n",
       "      <td>Pat-a-Cake</td>\n",
       "      <td>Mother Goose Club</td>\n",
       "      <td>children</td>\n",
       "      <td>Saint-Petersburg</td>\n",
       "      <td>20:04:56</td>\n",
       "      <td>Monday</td>\n",
       "    </tr>\n",
       "    <tr>\n",
       "      <td>19</td>\n",
       "      <td>772F5B59</td>\n",
       "      <td>Sweetback</td>\n",
       "      <td>The Fabulous Three</td>\n",
       "      <td>rnb</td>\n",
       "      <td>Moscow</td>\n",
       "      <td>13:56:42</td>\n",
       "      <td>Wednesday</td>\n",
       "    </tr>\n",
       "  </tbody>\n",
       "</table>\n",
       "</div>"
      ],
      "text/plain": [
       "     user_id                                              track  \\\n",
       "0   FFB692EC                                  Kamigata To Boots   \n",
       "1   55204538                        Delayed Because of Accident   \n",
       "2     20EC38                                  Funiculì funiculà   \n",
       "3   A3DD03C9                              Dragons in the Sunset   \n",
       "4   E2DC1FAE                                        Soul People   \n",
       "5   842029A1                                          Преданная   \n",
       "6   4CB90AA5                                               True   \n",
       "7   F03E1C1F                                   Feeling This Way   \n",
       "8   8FA1D3BE                           И вновь продолжается бой   \n",
       "9   E772D5C0                                          Pessimist   \n",
       "10  BC5A3A29                                       Gool la Mita   \n",
       "11  8B5192C0  Is There Anybody Out There? (Panoramic Paralys...   \n",
       "12  FF3FD2BD                                Мина син генэ кирэк   \n",
       "13  CC782B0F                               After School Special   \n",
       "14  94EB25C2                         Make Love Whenever You Can   \n",
       "15  E3C5756F                                            unknown   \n",
       "16  81D05C7D                                     SLAVES OF FEAR   \n",
       "17  39DE290E                                           Веснянка   \n",
       "18  58AE138A                                         Pat-a-Cake   \n",
       "19  772F5B59                                          Sweetback   \n",
       "\n",
       "                  artist        genre              city      time        day  \n",
       "0       The Mass Missile         rock  Saint-Petersburg  20:28:33  Wednesday  \n",
       "1       Andreas Rönnberg         rock            Moscow  14:07:09     Friday  \n",
       "2            Mario Lanza          pop  Saint-Petersburg  20:58:07  Wednesday  \n",
       "3             Fire + Ice         folk  Saint-Petersburg  08:37:09     Monday  \n",
       "4             Space Echo        dance            Moscow  08:34:34     Monday  \n",
       "5              IMPERVTOR       rusrap  Saint-Petersburg  13:09:41     Friday  \n",
       "6           Roman Messer        dance            Moscow  13:00:07  Wednesday  \n",
       "7        Polina Griffith        dance            Moscow  20:47:49  Wednesday  \n",
       "8                unknown       ruspop            Moscow  09:17:40     Friday  \n",
       "9                unknown        dance  Saint-Petersburg  21:20:49  Wednesday  \n",
       "10   Shireen Abdul Wahab        world            Moscow  14:08:42     Monday  \n",
       "11  Pink Floyd Floydhead   electronic            Moscow  13:47:49     Monday  \n",
       "12        Ильдар Хакимов          pop            Moscow  09:19:49     Monday  \n",
       "13  Detroit Grand Pubahs        dance            Moscow  20:04:12     Friday  \n",
       "14             Arabesque          pop  Saint-Petersburg  13:22:08  Wednesday  \n",
       "15               unknown      unknown            Moscow  09:24:51     Monday  \n",
       "16                HEALTH  alternative  Saint-Petersburg  20:54:48     Monday  \n",
       "17         Веданъ Колодъ         folk  Saint-Petersburg  14:36:47     Monday  \n",
       "18     Mother Goose Club     children  Saint-Petersburg  20:04:56     Monday  \n",
       "19    The Fabulous Three          rnb            Moscow  13:56:42  Wednesday  "
      ]
     },
     "execution_count": 9,
     "metadata": {},
     "output_type": "execute_result"
    }
   ],
   "source": [
    "columns_to_replace = ['track', 'artist', 'genre']\n",
    "# заполните отсутствующие значения столбцов из списка columns_to_replace значением 'unknown' в цикле\n",
    "for column in columns_to_replace:\n",
    "    df[column] = df[column].fillna('unknown')\n",
    "# удалите строки-дубликаты из датафрейма df\n",
    "# выведите на экран первые 20 строчек обновлённого набора данных df\n",
    "df.head(20)"
   ]
  },
  {
   "cell_type": "markdown",
   "metadata": {
    "id": "Ilsm-MZo_Zct"
   },
   "source": [
    "Убедитесь, что в таблице не осталось пропусков. Для этого ещё раз посчитайте пропущенные значения."
   ]
  },
  {
   "cell_type": "code",
   "execution_count": 10,
   "metadata": {
    "id": "Tq4nYRX4_Zct"
   },
   "outputs": [
    {
     "data": {
      "text/plain": [
       "user_id    0\n",
       "track      0\n",
       "artist     0\n",
       "genre      0\n",
       "city       0\n",
       "time       0\n",
       "day        0\n",
       "dtype: int64"
      ]
     },
     "execution_count": 10,
     "metadata": {},
     "output_type": "execute_result"
    }
   ],
   "source": [
    "# подсчёт пропусков\n",
    "df.isna().sum()"
   ]
  },
  {
   "cell_type": "markdown",
   "metadata": {},
   "source": [
    "<div class=\"alert alert-success\">\n",
    "<b>✔️ Комментарий ревьюера:</b> \n",
    "<br>Пропуски заменены верно!\n",
    "</div>"
   ]
  },
  {
   "cell_type": "markdown",
   "metadata": {
    "id": "BWKRtBJ3_Zct"
   },
   "source": [
    "### Дубликаты\n",
    "Посчитайте явные дубликаты в таблице одной командой:"
   ]
  },
  {
   "cell_type": "code",
   "execution_count": 11,
   "metadata": {
    "id": "36eES_S0_Zct"
   },
   "outputs": [
    {
     "data": {
      "text/plain": [
       "3826"
      ]
     },
     "execution_count": 11,
     "metadata": {},
     "output_type": "execute_result"
    }
   ],
   "source": [
    "# подсчёт явных дубликатов\n",
    "df.duplicated().sum()"
   ]
  },
  {
   "cell_type": "markdown",
   "metadata": {
    "id": "Ot25h6XR_Zct"
   },
   "source": [
    "Вызовите специальный метод `pandas`, чтобы удалить явные дубликаты:"
   ]
  },
  {
   "cell_type": "code",
   "execution_count": 12,
   "metadata": {
    "id": "exFHq6tt_Zct"
   },
   "outputs": [],
   "source": [
    "# удаление явных дубликатов (с удалением старых индексов и формированием новых)\n",
    "df = df.drop_duplicates().reset_index(drop=True)"
   ]
  },
  {
   "cell_type": "markdown",
   "metadata": {
    "id": "Im2YwBEG_Zct"
   },
   "source": [
    "Ещё раз посчитайте явные дубликаты в таблице — убедитесь, что полностью от них избавились:"
   ]
  },
  {
   "cell_type": "code",
   "execution_count": 13,
   "metadata": {
    "id": "-8PuNWQ0_Zct"
   },
   "outputs": [
    {
     "data": {
      "text/plain": [
       "0"
      ]
     },
     "execution_count": 13,
     "metadata": {},
     "output_type": "execute_result"
    }
   ],
   "source": [
    "# проверка на отсутствие дубликатов\n",
    "df.duplicated().sum()"
   ]
  },
  {
   "cell_type": "markdown",
   "metadata": {
    "id": "QlFBsxAr_Zct"
   },
   "source": [
    "Теперь избавьтесь от неявных дубликатов в колонке `genre`. Например, название одного и того же жанра может быть записано немного по-разному. Такие ошибки тоже повлияют на результат исследования."
   ]
  },
  {
   "cell_type": "markdown",
   "metadata": {
    "id": "eSjWwsOh_Zct"
   },
   "source": [
    "Выведите на экран список уникальных названий жанров, отсортированный в алфавитном порядке. Для этого:\n",
    "* извлеките нужный столбец датафрейма, \n",
    "* примените к нему метод сортировки,\n",
    "* для отсортированного столбца вызовите метод, который вернёт уникальные значения из столбца."
   ]
  },
  {
   "cell_type": "code",
   "execution_count": 14,
   "metadata": {
    "id": "JIUcqzZN_Zct"
   },
   "outputs": [
    {
     "name": "stdout",
     "output_type": "stream",
     "text": [
      "['rock' 'pop' 'folk' 'dance' 'rusrap' 'ruspop' 'world' 'electronic'\n",
      " 'unknown' 'alternative' 'children' 'rnb' 'hip' 'jazz' 'postrock' 'latin'\n",
      " 'classical' 'metal' 'reggae' 'tatar' 'blues' 'instrumental' 'rusrock'\n",
      " 'dnb' 'türk' 'post' 'country' 'psychedelic' 'conjazz' 'indie'\n",
      " 'posthardcore' 'local' 'avantgarde' 'punk' 'videogame' 'techno' 'house'\n",
      " 'christmas' 'melodic' 'caucasian' 'reggaeton' 'soundtrack' 'singer' 'ska'\n",
      " 'shanson' 'ambient' 'film' 'western' 'rap' 'beats' \"hard'n'heavy\"\n",
      " 'progmetal' 'minimal' 'contemporary' 'new' 'soul' 'holiday' 'german'\n",
      " 'tropical' 'fairytail' 'spiritual' 'urban' 'gospel' 'nujazz' 'folkmetal'\n",
      " 'trance' 'miscellaneous' 'anime' 'hardcore' 'progressive' 'chanson'\n",
      " 'numetal' 'vocal' 'estrada' 'russian' 'classicmetal' 'dubstep' 'club'\n",
      " 'deep' 'southern' 'black' 'folkrock' 'fitness' 'french' 'disco'\n",
      " 'religious' 'hiphop' 'drum' 'extrememetal' 'türkçe' 'experimental' 'easy'\n",
      " 'metalcore' 'modern' 'argentinetango' 'old' 'breaks' 'eurofolk'\n",
      " 'stonerrock' 'industrial' 'funk' 'jpop' 'middle' 'variété' 'other'\n",
      " 'adult' 'christian' 'gothic' 'international' 'muslim' 'relax' 'schlager'\n",
      " 'caribbean' 'ukrrock' 'nu' 'breakbeat' 'comedy' 'chill' 'newage'\n",
      " 'specialty' 'uzbek' 'k-pop' 'balkan' 'chinese' 'meditative' 'dub' 'power'\n",
      " 'death' 'grime' 'arabesk' 'romance' 'flamenco' 'leftfield' 'european'\n",
      " 'tech' 'newwave' 'dancehall' 'mpb' 'piano' 'top' 'bigroom' 'opera'\n",
      " 'celtic' 'tradjazz' 'acoustic' 'epicmetal' 'hip-hop' 'historisch'\n",
      " 'downbeat' 'downtempo' 'africa' 'audiobook' 'jewish' 'sängerportrait'\n",
      " 'deutschrock' 'eastern' 'action' 'future' 'electropop' 'folklore'\n",
      " 'bollywood' 'marschmusik' 'rnr' 'karaoke' 'indian' 'rancheras'\n",
      " 'электроника' 'afrikaans' 'tango' 'rhythm' 'sound' 'deutschspr' 'trip'\n",
      " 'lovers' 'choral' 'dancepop' 'podcasts' 'retro' 'smooth' 'mexican'\n",
      " 'brazilian' 'ïîï' 'mood' 'surf' 'author' 'gangsta' 'triphop'\n",
      " 'inspirational' 'idm' 'ethnic' 'bluegrass' 'broadway' 'animated'\n",
      " 'americana' 'karadeniz' 'rockabilly' 'colombian' 'self' 'hop' 'synthrock'\n",
      " 'sertanejo' 'japanese' 'canzone' 'swing' 'lounge' 'sport' 'korean'\n",
      " 'ragga' 'traditional' 'gitarre' 'frankreich' 'alternativepunk' 'emo'\n",
      " 'laiko' 'cantopop' 'glitch' 'documentary' 'rockalternative' 'thrash'\n",
      " 'hymn' 'oceania' 'rockother' 'popeurodance' 'dark' 'vi' 'grunge'\n",
      " 'hardstyle' 'samba' 'garage' 'soft' 'art' 'folktronica' 'entehno'\n",
      " 'mediterranean' 'chamber' 'cuban' 'taraftar' 'rockindie' 'gypsy'\n",
      " 'hardtechno' 'shoegazing' 'skarock' 'bossa' 'salsa' 'latino' 'worldbeat'\n",
      " 'malaysian' 'baile' 'ghazal' 'loungeelectronic' 'arabic' 'popelectronic'\n",
      " 'acid' 'kayokyoku' 'neoklassik' 'tribal' 'tanzorchester' 'native'\n",
      " 'independent' 'cantautori' 'handsup' 'poprussian' 'punjabi' 'synthpop'\n",
      " 'rave' 'französisch' 'quebecois' 'speech' 'soulful' 'teen' 'jam' 'ram'\n",
      " 'horror' 'scenic' 'orchestral' 'neue' 'roots' 'slow' 'jungle' 'indipop'\n",
      " 'axé' 'fado' 'showtunes' 'arena' 'irish' 'mandopop' 'forró' 'popdance'\n",
      " 'dirty' 'regional']\n"
     ]
    }
   ],
   "source": [
    "# Просмотр уникальных названий жанров\n",
    "print(df['genre'].unique())"
   ]
  },
  {
   "cell_type": "markdown",
   "metadata": {},
   "source": [
    "<div class=\"alert alert-danger\">\n",
    "<b>❌ Комментарий ревьюера:</b> \n",
    "<br>Нужно добавить метод .sort_values() для сортировки значений, чтобы было удобнее искать\n",
    "</div>"
   ]
  },
  {
   "cell_type": "markdown",
   "metadata": {
    "id": "qej-Qmuo_Zct"
   },
   "source": [
    "Просмотрите список и найдите неявные дубликаты названия `hiphop`. Это могут быть названия с ошибками или альтернативные названия того же жанра.\n",
    "\n",
    "Вы увидите следующие неявные дубликаты:\n",
    "* *hip*,\n",
    "* *hop*,\n",
    "* *hip-hop*.\n",
    "\n",
    "Чтобы очистить от них таблицу, напишите функцию `replace_wrong_genres()` с двумя параметрами: \n",
    "* `wrong_genres` — список дубликатов,\n",
    "* `correct_genre` — строка с правильным значением.\n",
    "\n",
    "Функция должна исправить колонку `genre` в таблице `df`: заменить каждое значение из списка `wrong_genres` на значение из `correct_genre`."
   ]
  },
  {
   "cell_type": "code",
   "execution_count": 15,
   "metadata": {
    "id": "ErNDkmns_Zct"
   },
   "outputs": [],
   "source": [
    "# Функция для замены неявных дубликатов\n",
    "def replace_wrong_genres(wrong_genres, correct_genre): # на вход функции подаются список неправильных значений и строка с правильным значением\n",
    "    for wrong_genres in wrong_genres: # перебираем неправильные имена\n",
    "        df['genre'] = df['genre'].replace(wrong_genres, correct_genre) # и для каждого неправильного имени вызываем метод replace()"
   ]
  },
  {
   "cell_type": "markdown",
   "metadata": {
    "id": "aDoBJxbA_Zct"
   },
   "source": [
    "Вызовите `replace_wrong_genres()` и передайте ей такие аргументы, чтобы она устранила неявные дубликаты: вместо `hip`, `hop` и `hip-hop` в таблице должно быть значение `hiphop`:"
   ]
  },
  {
   "cell_type": "code",
   "execution_count": 16,
   "metadata": {
    "id": "YN5i2hpmSo09"
   },
   "outputs": [],
   "source": [
    "# Устранение неявных дубликатов\n",
    "duplicates = ['hip', 'hop', 'hip-hop'] # список неправильных имён\n",
    "name = 'hiphop' # правильное имя\n",
    "replace_wrong_genres(duplicates, name) # вызов функции, replace() внутри будет вызван 3 раза\n",
    "#print(tennis) # датафрейм изменился, неявные дубликаты устранены "
   ]
  },
  {
   "cell_type": "markdown",
   "metadata": {},
   "source": [
    "<div class=\"alert alert-warning\">\n",
    "<b>⚠️ Комментарий ревьюера:</b> \n",
    "<br>Здесь можно заменить все дубликаты в одну строчку:\n",
    "    \n",
    "    replace_wrong_genres(['hip', 'hop', 'hip-hop'], 'hiphop')\n",
    "</div>"
   ]
  },
  {
   "cell_type": "markdown",
   "metadata": {
    "id": "zQKF16_RG15m"
   },
   "source": [
    "Проверьте, что заменили неправильные названия:\n",
    "\n",
    "*   hip\n",
    "*   hop\n",
    "*   hip-hop\n",
    "\n",
    "Выведите отсортированный список уникальных значений столбца `genre`:"
   ]
  },
  {
   "cell_type": "code",
   "execution_count": 17,
   "metadata": {
    "id": "wvixALnFG15m"
   },
   "outputs": [
    {
     "data": {
      "text/plain": [
       "array(['rock', 'pop', 'folk', 'dance', 'rusrap', 'ruspop', 'world',\n",
       "       'electronic', 'unknown', 'alternative', 'children', 'rnb',\n",
       "       'hiphop', 'jazz', 'postrock', 'latin', 'classical', 'metal',\n",
       "       'reggae', 'tatar', 'blues', 'instrumental', 'rusrock', 'dnb',\n",
       "       'türk', 'post', 'country', 'psychedelic', 'conjazz', 'indie',\n",
       "       'posthardcore', 'local', 'avantgarde', 'punk', 'videogame',\n",
       "       'techno', 'house', 'christmas', 'melodic', 'caucasian',\n",
       "       'reggaeton', 'soundtrack', 'singer', 'ska', 'shanson', 'ambient',\n",
       "       'film', 'western', 'rap', 'beats', \"hard'n'heavy\", 'progmetal',\n",
       "       'minimal', 'contemporary', 'new', 'soul', 'holiday', 'german',\n",
       "       'tropical', 'fairytail', 'spiritual', 'urban', 'gospel', 'nujazz',\n",
       "       'folkmetal', 'trance', 'miscellaneous', 'anime', 'hardcore',\n",
       "       'progressive', 'chanson', 'numetal', 'vocal', 'estrada', 'russian',\n",
       "       'classicmetal', 'dubstep', 'club', 'deep', 'southern', 'black',\n",
       "       'folkrock', 'fitness', 'french', 'disco', 'religious', 'drum',\n",
       "       'extrememetal', 'türkçe', 'experimental', 'easy', 'metalcore',\n",
       "       'modern', 'argentinetango', 'old', 'breaks', 'eurofolk',\n",
       "       'stonerrock', 'industrial', 'funk', 'jpop', 'middle', 'variété',\n",
       "       'other', 'adult', 'christian', 'gothic', 'international', 'muslim',\n",
       "       'relax', 'schlager', 'caribbean', 'ukrrock', 'nu', 'breakbeat',\n",
       "       'comedy', 'chill', 'newage', 'specialty', 'uzbek', 'k-pop',\n",
       "       'balkan', 'chinese', 'meditative', 'dub', 'power', 'death',\n",
       "       'grime', 'arabesk', 'romance', 'flamenco', 'leftfield', 'european',\n",
       "       'tech', 'newwave', 'dancehall', 'mpb', 'piano', 'top', 'bigroom',\n",
       "       'opera', 'celtic', 'tradjazz', 'acoustic', 'epicmetal',\n",
       "       'historisch', 'downbeat', 'downtempo', 'africa', 'audiobook',\n",
       "       'jewish', 'sängerportrait', 'deutschrock', 'eastern', 'action',\n",
       "       'future', 'electropop', 'folklore', 'bollywood', 'marschmusik',\n",
       "       'rnr', 'karaoke', 'indian', 'rancheras', 'электроника',\n",
       "       'afrikaans', 'tango', 'rhythm', 'sound', 'deutschspr', 'trip',\n",
       "       'lovers', 'choral', 'dancepop', 'podcasts', 'retro', 'smooth',\n",
       "       'mexican', 'brazilian', 'ïîï', 'mood', 'surf', 'author', 'gangsta',\n",
       "       'triphop', 'inspirational', 'idm', 'ethnic', 'bluegrass',\n",
       "       'broadway', 'animated', 'americana', 'karadeniz', 'rockabilly',\n",
       "       'colombian', 'self', 'synthrock', 'sertanejo', 'japanese',\n",
       "       'canzone', 'swing', 'lounge', 'sport', 'korean', 'ragga',\n",
       "       'traditional', 'gitarre', 'frankreich', 'alternativepunk', 'emo',\n",
       "       'laiko', 'cantopop', 'glitch', 'documentary', 'rockalternative',\n",
       "       'thrash', 'hymn', 'oceania', 'rockother', 'popeurodance', 'dark',\n",
       "       'vi', 'grunge', 'hardstyle', 'samba', 'garage', 'soft', 'art',\n",
       "       'folktronica', 'entehno', 'mediterranean', 'chamber', 'cuban',\n",
       "       'taraftar', 'rockindie', 'gypsy', 'hardtechno', 'shoegazing',\n",
       "       'skarock', 'bossa', 'salsa', 'latino', 'worldbeat', 'malaysian',\n",
       "       'baile', 'ghazal', 'loungeelectronic', 'arabic', 'popelectronic',\n",
       "       'acid', 'kayokyoku', 'neoklassik', 'tribal', 'tanzorchester',\n",
       "       'native', 'independent', 'cantautori', 'handsup', 'poprussian',\n",
       "       'punjabi', 'synthpop', 'rave', 'französisch', 'quebecois',\n",
       "       'speech', 'soulful', 'teen', 'jam', 'ram', 'horror', 'scenic',\n",
       "       'orchestral', 'neue', 'roots', 'slow', 'jungle', 'indipop', 'axé',\n",
       "       'fado', 'showtunes', 'arena', 'irish', 'mandopop', 'forró',\n",
       "       'popdance', 'dirty', 'regional'], dtype=object)"
      ]
     },
     "execution_count": 17,
     "metadata": {},
     "output_type": "execute_result"
    }
   ],
   "source": [
    "# Проверка на неявные дубликаты\n",
    "df['genre'].unique()"
   ]
  },
  {
   "cell_type": "markdown",
   "metadata": {
    "id": "jz6a9-7HQUDd"
   },
   "source": [
    "**Выводы**\n",
    "\n",
    "Предобработка обнаружила три проблемы в данных:\n",
    "\n",
    "- нарушения в стиле заголовков,\n",
    "- пропущенные значения,\n",
    "- дубликаты — явные и неявные.\n",
    "\n",
    "Вы исправили заголовки, чтобы упростить работу с таблицей. Без дубликатов исследование станет более точным.\n",
    "\n",
    "Пропущенные значения вы заменили на `'unknown'`. Ещё предстоит увидеть, не повредят ли исследованию пропуски в колонке `genre`.\n",
    "\n",
    "Теперь можно перейти к проверке гипотез. "
   ]
  },
  {
   "cell_type": "markdown",
   "metadata": {},
   "source": [
    "<div class=\"alert alert-success\">\n",
    "<b>✔️ Комментарий ревьюера:</b> \n",
    "<br>Супер! Дубликаты победили)\n",
    "</div>"
   ]
  },
  {
   "cell_type": "markdown",
   "metadata": {
    "id": "WttZHXH0SqKk"
   },
   "source": [
    "## Проверка гипотез"
   ]
  },
  {
   "cell_type": "markdown",
   "metadata": {
    "id": "Im936VVi_Zcu"
   },
   "source": [
    "### Сравнение поведения пользователей двух столиц"
   ]
  },
  {
   "cell_type": "markdown",
   "metadata": {
    "id": "nwt_MuaL_Zcu"
   },
   "source": [
    "Первая гипотеза утверждает, что пользователи по-разному слушают музыку в Москве и Санкт-Петербурге. Проверьте это предположение по данным о трёх днях недели — понедельнике, среде и пятнице. Для этого:\n",
    "\n",
    "* Разделите пользователей Москвы и Санкт-Петербурга\n",
    "* Сравните, сколько треков послушала каждая группа пользователей в понедельник, среду и пятницу.\n"
   ]
  },
  {
   "cell_type": "markdown",
   "metadata": {
    "id": "8Dw_YMmT_Zcu"
   },
   "source": [
    "Для тренировки сначала выполните каждый из расчётов по отдельности. \n",
    "\n",
    "Оцените активность пользователей в каждом городе. Сгруппируйте данные по городу и посчитайте прослушивания в каждой группе.\n",
    "\n"
   ]
  },
  {
   "cell_type": "code",
   "execution_count": 18,
   "metadata": {
    "id": "0_Qs96oh_Zcu"
   },
   "outputs": [
    {
     "data": {
      "text/plain": [
       "city\n",
       "Moscow              42741\n",
       "Saint-Petersburg    18512\n",
       "Name: day, dtype: int64"
      ]
     },
     "execution_count": 18,
     "metadata": {},
     "output_type": "execute_result"
    }
   ],
   "source": [
    "# Подсчёт прослушиваний в каждом городе\n",
    "df.groupby('city')['day'].count()"
   ]
  },
  {
   "cell_type": "markdown",
   "metadata": {
    "id": "dzli3w8o_Zcu"
   },
   "source": [
    "В Москве прослушиваний больше, чем в Петербурге. Из этого не следует, что московские пользователи чаще слушают музыку. Просто самих пользователей в Москве больше.\n",
    "\n",
    "Теперь сгруппируйте данные по дню недели и подсчитайте прослушивания в понедельник, среду и пятницу. Учтите, что в данных есть информация только о прослушиваниях только за эти дни.\n"
   ]
  },
  {
   "cell_type": "code",
   "execution_count": 19,
   "metadata": {
    "id": "uZMKjiJz_Zcu"
   },
   "outputs": [
    {
     "data": {
      "text/plain": [
       "day\n",
       "Friday       21840\n",
       "Monday       21354\n",
       "Wednesday    18059\n",
       "Name: city, dtype: int64"
      ]
     },
     "execution_count": 19,
     "metadata": {},
     "output_type": "execute_result"
    }
   ],
   "source": [
    "# Подсчёт прослушиваний в каждый из трёх дней\n",
    "df.groupby('day')['city'].count()"
   ]
  },
  {
   "cell_type": "markdown",
   "metadata": {
    "id": "cC2tNrlL_Zcu"
   },
   "source": [
    "В среднем пользователи из двух городов менее активны по средам. Но картина может измениться, если рассмотреть каждый город в отдельности."
   ]
  },
  {
   "cell_type": "markdown",
   "metadata": {
    "id": "POzs8bGa_Zcu"
   },
   "source": [
    "Вы видели, как работает группировка по городу и по дням недели. Теперь напишите функцию, которая объединит два эти расчёта.\n",
    "\n",
    "Создайте функцию `number_tracks()`, которая посчитает прослушивания для заданного дня и города. Ей понадобятся два параметра:\n",
    "* день недели,\n",
    "* название города.\n",
    "\n",
    "В функции сохраните в переменную строки исходной таблицы, у которых значение:\n",
    "  * в колонке `day` равно параметру `day`,\n",
    "  * в колонке `city` равно параметру `city`.\n",
    "\n",
    "Для этого примените последовательную фильтрацию с логической индексацией.\n",
    "\n",
    "Затем посчитайте значения в столбце `user_id` получившейся таблицы. Результат сохраните в новую переменную. Верните эту переменную из функции."
   ]
  },
  {
   "cell_type": "code",
   "execution_count": 20,
   "metadata": {
    "id": "Nz3GdQB1_Zcu",
    "scrolled": true
   },
   "outputs": [],
   "source": [
    "# <создание функции number_tracks()>\n",
    "def number_tracks(day, city):\n",
    "    track_list = df[df['day'] == day]\n",
    "    track_list = track_list[track_list['city'] == city]\n",
    "    track_list_count = track_list['user_id'].count()\n",
    "    return track_list_count\n",
    "        \n",
    "# Объявляется функция с двумя параметрами: day, city.\n",
    "# В переменной track_list сохраняются те строки таблицы df, для которых \n",
    "# значение в столбце 'day' равно параметру day и одновременно значение\n",
    "# в столбце 'city' равно параметру city (используйте последовательную фильтрацию\n",
    "# с помощью логической индексации).\n",
    "# В переменной track_list_count сохраняется число значений столбца 'user_id',\n",
    "# рассчитанное методом count() для таблицы track_list.\n",
    "# Функция возвращает число - значение track_list_count.\n",
    "# Функция для подсчёта прослушиваний для конкретного города и дня.\n",
    "# С помощью последовательной фильтрации с логической индексацией она \n",
    "# сначала получит из исходной таблицы строки с нужным днём,\n",
    "# затем из результата отфильтрует строки с нужным городом,\n",
    "# методом count() посчитает количество значений в колонке user_id. \n",
    "# Это количество функция вернёт в качестве результата"
   ]
  },
  {
   "cell_type": "markdown",
   "metadata": {
    "id": "ytf7xFrFJQ2r"
   },
   "source": [
    "Вызовите `number_tracks()` шесть раз, меняя значение параметров — так, чтобы получить данные для каждого города в каждый из трёх дней."
   ]
  },
  {
   "cell_type": "code",
   "execution_count": 21,
   "metadata": {
    "id": "rJcRATNQ_Zcu"
   },
   "outputs": [
    {
     "data": {
      "text/plain": [
       "15740"
      ]
     },
     "execution_count": 21,
     "metadata": {},
     "output_type": "execute_result"
    }
   ],
   "source": [
    "# количество прослушиваний в Москве по понедельникам\n",
    "number_tracks('Monday' ,'Moscow')"
   ]
  },
  {
   "cell_type": "code",
   "execution_count": 22,
   "metadata": {
    "id": "hq_ncZ5T_Zcu"
   },
   "outputs": [
    {
     "data": {
      "text/plain": [
       "5614"
      ]
     },
     "execution_count": 22,
     "metadata": {},
     "output_type": "execute_result"
    }
   ],
   "source": [
    "# количество прослушиваний в Санкт-Петербурге по понедельникам\n",
    "number_tracks('Monday' ,'Saint-Petersburg')"
   ]
  },
  {
   "cell_type": "code",
   "execution_count": 23,
   "metadata": {
    "id": "_NTy2VPU_Zcu"
   },
   "outputs": [
    {
     "data": {
      "text/plain": [
       "11056"
      ]
     },
     "execution_count": 23,
     "metadata": {},
     "output_type": "execute_result"
    }
   ],
   "source": [
    "# количество прослушиваний в Москве по средам\n",
    "number_tracks('Wednesday' ,'Moscow')"
   ]
  },
  {
   "cell_type": "code",
   "execution_count": 24,
   "metadata": {
    "id": "j2y3TAwo_Zcu"
   },
   "outputs": [
    {
     "data": {
      "text/plain": [
       "7003"
      ]
     },
     "execution_count": 24,
     "metadata": {},
     "output_type": "execute_result"
    }
   ],
   "source": [
    "# количество прослушиваний в Санкт-Петербурге по средам\n",
    "number_tracks('Wednesday' ,'Saint-Petersburg')"
   ]
  },
  {
   "cell_type": "code",
   "execution_count": 25,
   "metadata": {
    "id": "vYDw5u_K_Zcu"
   },
   "outputs": [
    {
     "data": {
      "text/plain": [
       "15945"
      ]
     },
     "execution_count": 25,
     "metadata": {},
     "output_type": "execute_result"
    }
   ],
   "source": [
    "# количество прослушиваний в Москве по пятницам\n",
    "number_tracks('Friday' ,'Moscow')"
   ]
  },
  {
   "cell_type": "code",
   "execution_count": 26,
   "metadata": {
    "id": "8_yzFtW3_Zcu"
   },
   "outputs": [
    {
     "data": {
      "text/plain": [
       "5895"
      ]
     },
     "execution_count": 26,
     "metadata": {},
     "output_type": "execute_result"
    }
   ],
   "source": [
    "# количество прослушиваний в Санкт-Петербурге по пятницам\n",
    "number_tracks('Friday' ,'Saint-Petersburg')"
   ]
  },
  {
   "cell_type": "markdown",
   "metadata": {
    "id": "7QXffbO-_Zcu"
   },
   "source": [
    "Создайте c помощью конструктора `pd.DataFrame` таблицу, где\n",
    "* названия колонок — `['city', 'monday', 'wednesday', 'friday']`;\n",
    "* данные — результаты, которые вы получили с помощью `number_tracks`."
   ]
  },
  {
   "cell_type": "code",
   "execution_count": 27,
   "metadata": {
    "id": "APAcLpOr_Zcu"
   },
   "outputs": [
    {
     "name": "stdout",
     "output_type": "stream",
     "text": [
      "              city  monday  wednesday  friday\n",
      "0           Москва   15740      11056   15945\n",
      "1  Скнкт-Петербург    5614       7003    5895\n"
     ]
    }
   ],
   "source": [
    "# Таблицpd.DataFrame = а с результатами\n",
    "data = [['Москва', 15740, 11056, 15945],\n",
    "       ['Скнкт-Петербург', 5614, 7003, 5895]]\n",
    "columns = ['city','monday','wednesday','friday']\n",
    "print(pd.DataFrame(data=data,columns=columns))"
   ]
  },
  {
   "cell_type": "markdown",
   "metadata": {},
   "source": [
    "<div class=\"alert alert-success\">\n",
    "<b>✔️ Комментарий ревьюера:</b> \n",
    "<br>Датафрейм построен верно. Молодец!\n",
    "</div>\n",
    "\n",
    "<div class=\"alert alert-warning\">\n",
    "<b>⚠️ Комментарий ревьюера:</b> \n",
    "<br>Альтернативное решение:\n",
    "    \n",
    "    info = pd.DataFrame(data=[['Москва', 15740, 11056, 15945], ['Санкт-Петербург', 5614, 7003, 5895]], columns=['city', 'monday', 'wednesday', 'friday'])\n",
    "</div>"
   ]
  },
  {
   "cell_type": "markdown",
   "metadata": {
    "id": "-EgPIHYu_Zcu"
   },
   "source": [
    "**Выводы**\n",
    "\n",
    "Данные показывают разницу поведения пользователей:\n",
    "\n",
    "- В Москве пик прослушиваний приходится на понедельник и пятницу, а в среду заметен спад.\n",
    "- В Петербурге, наоборот, больше слушают музыку по средам. Активность в понедельник и пятницу здесь почти в равной мере уступает среде.\n",
    "\n",
    "Значит, данные говорят в пользу первой гипотезы."
   ]
  },
  {
   "cell_type": "markdown",
   "metadata": {
    "id": "atZAxtq4_Zcu"
   },
   "source": [
    "### Музыка в начале и в конце недели"
   ]
  },
  {
   "cell_type": "markdown",
   "metadata": {
    "id": "eXrQqXFH_Zcu"
   },
   "source": [
    "Согласно второй гипотезе, утром в понедельник в Москве преобладают одни жанры, а в Петербурге — другие. Так же и вечером пятницы преобладают разные жанры — в зависимости от города."
   ]
  },
  {
   "cell_type": "markdown",
   "metadata": {
    "id": "S8UcW6Hw_Zcu"
   },
   "source": [
    "Сохраните таблицы с данными в две переменные:\n",
    "* по Москве — в `moscow_general`;\n",
    "* по Санкт-Петербургу — в `spb_general`."
   ]
  },
  {
   "cell_type": "code",
   "execution_count": 28,
   "metadata": {
    "id": "qeaFfM_P_Zcu"
   },
   "outputs": [
    {
     "data": {
      "text/html": [
       "<div>\n",
       "<style scoped>\n",
       "    .dataframe tbody tr th:only-of-type {\n",
       "        vertical-align: middle;\n",
       "    }\n",
       "\n",
       "    .dataframe tbody tr th {\n",
       "        vertical-align: top;\n",
       "    }\n",
       "\n",
       "    .dataframe thead th {\n",
       "        text-align: right;\n",
       "    }\n",
       "</style>\n",
       "<table border=\"1\" class=\"dataframe\">\n",
       "  <thead>\n",
       "    <tr style=\"text-align: right;\">\n",
       "      <th></th>\n",
       "      <th>user_id</th>\n",
       "      <th>track</th>\n",
       "      <th>artist</th>\n",
       "      <th>genre</th>\n",
       "      <th>city</th>\n",
       "      <th>time</th>\n",
       "      <th>day</th>\n",
       "    </tr>\n",
       "  </thead>\n",
       "  <tbody>\n",
       "    <tr>\n",
       "      <td>1</td>\n",
       "      <td>55204538</td>\n",
       "      <td>Delayed Because of Accident</td>\n",
       "      <td>Andreas Rönnberg</td>\n",
       "      <td>rock</td>\n",
       "      <td>Moscow</td>\n",
       "      <td>14:07:09</td>\n",
       "      <td>Friday</td>\n",
       "    </tr>\n",
       "    <tr>\n",
       "      <td>4</td>\n",
       "      <td>E2DC1FAE</td>\n",
       "      <td>Soul People</td>\n",
       "      <td>Space Echo</td>\n",
       "      <td>dance</td>\n",
       "      <td>Moscow</td>\n",
       "      <td>08:34:34</td>\n",
       "      <td>Monday</td>\n",
       "    </tr>\n",
       "    <tr>\n",
       "      <td>6</td>\n",
       "      <td>4CB90AA5</td>\n",
       "      <td>True</td>\n",
       "      <td>Roman Messer</td>\n",
       "      <td>dance</td>\n",
       "      <td>Moscow</td>\n",
       "      <td>13:00:07</td>\n",
       "      <td>Wednesday</td>\n",
       "    </tr>\n",
       "    <tr>\n",
       "      <td>7</td>\n",
       "      <td>F03E1C1F</td>\n",
       "      <td>Feeling This Way</td>\n",
       "      <td>Polina Griffith</td>\n",
       "      <td>dance</td>\n",
       "      <td>Moscow</td>\n",
       "      <td>20:47:49</td>\n",
       "      <td>Wednesday</td>\n",
       "    </tr>\n",
       "    <tr>\n",
       "      <td>8</td>\n",
       "      <td>8FA1D3BE</td>\n",
       "      <td>И вновь продолжается бой</td>\n",
       "      <td>unknown</td>\n",
       "      <td>ruspop</td>\n",
       "      <td>Moscow</td>\n",
       "      <td>09:17:40</td>\n",
       "      <td>Friday</td>\n",
       "    </tr>\n",
       "    <tr>\n",
       "      <td>...</td>\n",
       "      <td>...</td>\n",
       "      <td>...</td>\n",
       "      <td>...</td>\n",
       "      <td>...</td>\n",
       "      <td>...</td>\n",
       "      <td>...</td>\n",
       "      <td>...</td>\n",
       "    </tr>\n",
       "    <tr>\n",
       "      <td>61247</td>\n",
       "      <td>83A474E7</td>\n",
       "      <td>I Worship Only What You Bleed</td>\n",
       "      <td>The Black Dahlia Murder</td>\n",
       "      <td>extrememetal</td>\n",
       "      <td>Moscow</td>\n",
       "      <td>21:07:12</td>\n",
       "      <td>Monday</td>\n",
       "    </tr>\n",
       "    <tr>\n",
       "      <td>61248</td>\n",
       "      <td>729CBB09</td>\n",
       "      <td>My Name</td>\n",
       "      <td>McLean</td>\n",
       "      <td>rnb</td>\n",
       "      <td>Moscow</td>\n",
       "      <td>13:32:28</td>\n",
       "      <td>Wednesday</td>\n",
       "    </tr>\n",
       "    <tr>\n",
       "      <td>61250</td>\n",
       "      <td>C5E3A0D5</td>\n",
       "      <td>Jalopiina</td>\n",
       "      <td>unknown</td>\n",
       "      <td>industrial</td>\n",
       "      <td>Moscow</td>\n",
       "      <td>20:09:26</td>\n",
       "      <td>Friday</td>\n",
       "    </tr>\n",
       "    <tr>\n",
       "      <td>61251</td>\n",
       "      <td>321D0506</td>\n",
       "      <td>Freight Train</td>\n",
       "      <td>Chas McDevitt</td>\n",
       "      <td>rock</td>\n",
       "      <td>Moscow</td>\n",
       "      <td>21:43:59</td>\n",
       "      <td>Friday</td>\n",
       "    </tr>\n",
       "    <tr>\n",
       "      <td>61252</td>\n",
       "      <td>3A64EF84</td>\n",
       "      <td>Tell Me Sweet Little Lies</td>\n",
       "      <td>Monica Lopez</td>\n",
       "      <td>country</td>\n",
       "      <td>Moscow</td>\n",
       "      <td>21:59:46</td>\n",
       "      <td>Friday</td>\n",
       "    </tr>\n",
       "  </tbody>\n",
       "</table>\n",
       "<p>42741 rows × 7 columns</p>\n",
       "</div>"
      ],
      "text/plain": [
       "        user_id                          track                   artist  \\\n",
       "1      55204538    Delayed Because of Accident         Andreas Rönnberg   \n",
       "4      E2DC1FAE                    Soul People               Space Echo   \n",
       "6      4CB90AA5                           True             Roman Messer   \n",
       "7      F03E1C1F               Feeling This Way          Polina Griffith   \n",
       "8      8FA1D3BE       И вновь продолжается бой                  unknown   \n",
       "...         ...                            ...                      ...   \n",
       "61247  83A474E7  I Worship Only What You Bleed  The Black Dahlia Murder   \n",
       "61248  729CBB09                        My Name                   McLean   \n",
       "61250  C5E3A0D5                      Jalopiina                  unknown   \n",
       "61251  321D0506                  Freight Train            Chas McDevitt   \n",
       "61252  3A64EF84      Tell Me Sweet Little Lies             Monica Lopez   \n",
       "\n",
       "              genre    city      time        day  \n",
       "1              rock  Moscow  14:07:09     Friday  \n",
       "4             dance  Moscow  08:34:34     Monday  \n",
       "6             dance  Moscow  13:00:07  Wednesday  \n",
       "7             dance  Moscow  20:47:49  Wednesday  \n",
       "8            ruspop  Moscow  09:17:40     Friday  \n",
       "...             ...     ...       ...        ...  \n",
       "61247  extrememetal  Moscow  21:07:12     Monday  \n",
       "61248           rnb  Moscow  13:32:28  Wednesday  \n",
       "61250    industrial  Moscow  20:09:26     Friday  \n",
       "61251          rock  Moscow  21:43:59     Friday  \n",
       "61252       country  Moscow  21:59:46     Friday  \n",
       "\n",
       "[42741 rows x 7 columns]"
      ]
     },
     "execution_count": 28,
     "metadata": {},
     "output_type": "execute_result"
    }
   ],
   "source": [
    "# получение таблицы moscow_general из тех строк таблицы df, \n",
    "# для которых значение в столбце 'city' равно 'Moscow'\n",
    "moscow_general =  df[df['city'] == 'Moscow']\n",
    "moscow_general"
   ]
  },
  {
   "cell_type": "code",
   "execution_count": 29,
   "metadata": {
    "id": "ORaVRKto_Zcu"
   },
   "outputs": [
    {
     "data": {
      "text/html": [
       "<div>\n",
       "<style scoped>\n",
       "    .dataframe tbody tr th:only-of-type {\n",
       "        vertical-align: middle;\n",
       "    }\n",
       "\n",
       "    .dataframe tbody tr th {\n",
       "        vertical-align: top;\n",
       "    }\n",
       "\n",
       "    .dataframe thead th {\n",
       "        text-align: right;\n",
       "    }\n",
       "</style>\n",
       "<table border=\"1\" class=\"dataframe\">\n",
       "  <thead>\n",
       "    <tr style=\"text-align: right;\">\n",
       "      <th></th>\n",
       "      <th>user_id</th>\n",
       "      <th>track</th>\n",
       "      <th>artist</th>\n",
       "      <th>genre</th>\n",
       "      <th>city</th>\n",
       "      <th>time</th>\n",
       "      <th>day</th>\n",
       "    </tr>\n",
       "  </thead>\n",
       "  <tbody>\n",
       "    <tr>\n",
       "      <td>0</td>\n",
       "      <td>FFB692EC</td>\n",
       "      <td>Kamigata To Boots</td>\n",
       "      <td>The Mass Missile</td>\n",
       "      <td>rock</td>\n",
       "      <td>Saint-Petersburg</td>\n",
       "      <td>20:28:33</td>\n",
       "      <td>Wednesday</td>\n",
       "    </tr>\n",
       "    <tr>\n",
       "      <td>2</td>\n",
       "      <td>20EC38</td>\n",
       "      <td>Funiculì funiculà</td>\n",
       "      <td>Mario Lanza</td>\n",
       "      <td>pop</td>\n",
       "      <td>Saint-Petersburg</td>\n",
       "      <td>20:58:07</td>\n",
       "      <td>Wednesday</td>\n",
       "    </tr>\n",
       "    <tr>\n",
       "      <td>3</td>\n",
       "      <td>A3DD03C9</td>\n",
       "      <td>Dragons in the Sunset</td>\n",
       "      <td>Fire + Ice</td>\n",
       "      <td>folk</td>\n",
       "      <td>Saint-Petersburg</td>\n",
       "      <td>08:37:09</td>\n",
       "      <td>Monday</td>\n",
       "    </tr>\n",
       "    <tr>\n",
       "      <td>5</td>\n",
       "      <td>842029A1</td>\n",
       "      <td>Преданная</td>\n",
       "      <td>IMPERVTOR</td>\n",
       "      <td>rusrap</td>\n",
       "      <td>Saint-Petersburg</td>\n",
       "      <td>13:09:41</td>\n",
       "      <td>Friday</td>\n",
       "    </tr>\n",
       "    <tr>\n",
       "      <td>9</td>\n",
       "      <td>E772D5C0</td>\n",
       "      <td>Pessimist</td>\n",
       "      <td>unknown</td>\n",
       "      <td>dance</td>\n",
       "      <td>Saint-Petersburg</td>\n",
       "      <td>21:20:49</td>\n",
       "      <td>Wednesday</td>\n",
       "    </tr>\n",
       "    <tr>\n",
       "      <td>...</td>\n",
       "      <td>...</td>\n",
       "      <td>...</td>\n",
       "      <td>...</td>\n",
       "      <td>...</td>\n",
       "      <td>...</td>\n",
       "      <td>...</td>\n",
       "      <td>...</td>\n",
       "    </tr>\n",
       "    <tr>\n",
       "      <td>61239</td>\n",
       "      <td>D94F810B</td>\n",
       "      <td>Theme from the Walking Dead</td>\n",
       "      <td>Proyecto Halloween</td>\n",
       "      <td>film</td>\n",
       "      <td>Saint-Petersburg</td>\n",
       "      <td>21:14:40</td>\n",
       "      <td>Monday</td>\n",
       "    </tr>\n",
       "    <tr>\n",
       "      <td>61240</td>\n",
       "      <td>BC8EC5CF</td>\n",
       "      <td>Red Lips: Gta (Rover Rework)</td>\n",
       "      <td>Rover</td>\n",
       "      <td>electronic</td>\n",
       "      <td>Saint-Petersburg</td>\n",
       "      <td>21:06:50</td>\n",
       "      <td>Monday</td>\n",
       "    </tr>\n",
       "    <tr>\n",
       "      <td>61241</td>\n",
       "      <td>29E04611</td>\n",
       "      <td>Bre Petrunko</td>\n",
       "      <td>Perunika Trio</td>\n",
       "      <td>world</td>\n",
       "      <td>Saint-Petersburg</td>\n",
       "      <td>13:56:00</td>\n",
       "      <td>Monday</td>\n",
       "    </tr>\n",
       "    <tr>\n",
       "      <td>61242</td>\n",
       "      <td>1B91C621</td>\n",
       "      <td>(Hello) Cloud Mountain</td>\n",
       "      <td>sleepmakeswaves</td>\n",
       "      <td>postrock</td>\n",
       "      <td>Saint-Petersburg</td>\n",
       "      <td>09:22:13</td>\n",
       "      <td>Monday</td>\n",
       "    </tr>\n",
       "    <tr>\n",
       "      <td>61249</td>\n",
       "      <td>D08D4A55</td>\n",
       "      <td>Maybe One Day (feat. Black Spade)</td>\n",
       "      <td>Blu &amp; Exile</td>\n",
       "      <td>hiphop</td>\n",
       "      <td>Saint-Petersburg</td>\n",
       "      <td>10:00:00</td>\n",
       "      <td>Monday</td>\n",
       "    </tr>\n",
       "  </tbody>\n",
       "</table>\n",
       "<p>18512 rows × 7 columns</p>\n",
       "</div>"
      ],
      "text/plain": [
       "        user_id                              track              artist  \\\n",
       "0      FFB692EC                  Kamigata To Boots    The Mass Missile   \n",
       "2        20EC38                  Funiculì funiculà         Mario Lanza   \n",
       "3      A3DD03C9              Dragons in the Sunset          Fire + Ice   \n",
       "5      842029A1                          Преданная           IMPERVTOR   \n",
       "9      E772D5C0                          Pessimist             unknown   \n",
       "...         ...                                ...                 ...   \n",
       "61239  D94F810B        Theme from the Walking Dead  Proyecto Halloween   \n",
       "61240  BC8EC5CF       Red Lips: Gta (Rover Rework)               Rover   \n",
       "61241  29E04611                       Bre Petrunko       Perunika Trio   \n",
       "61242  1B91C621             (Hello) Cloud Mountain     sleepmakeswaves   \n",
       "61249  D08D4A55  Maybe One Day (feat. Black Spade)         Blu & Exile   \n",
       "\n",
       "            genre              city      time        day  \n",
       "0            rock  Saint-Petersburg  20:28:33  Wednesday  \n",
       "2             pop  Saint-Petersburg  20:58:07  Wednesday  \n",
       "3            folk  Saint-Petersburg  08:37:09     Monday  \n",
       "5          rusrap  Saint-Petersburg  13:09:41     Friday  \n",
       "9           dance  Saint-Petersburg  21:20:49  Wednesday  \n",
       "...           ...               ...       ...        ...  \n",
       "61239        film  Saint-Petersburg  21:14:40     Monday  \n",
       "61240  electronic  Saint-Petersburg  21:06:50     Monday  \n",
       "61241       world  Saint-Petersburg  13:56:00     Monday  \n",
       "61242    postrock  Saint-Petersburg  09:22:13     Monday  \n",
       "61249      hiphop  Saint-Petersburg  10:00:00     Monday  \n",
       "\n",
       "[18512 rows x 7 columns]"
      ]
     },
     "execution_count": 29,
     "metadata": {},
     "output_type": "execute_result"
    }
   ],
   "source": [
    "# получение таблицы spb_general из тех строк таблицы df,\n",
    "# для которых значение в столбце 'city' равно 'Saint-Petersburg'\n",
    "spb_general = df[df['city'] == 'Saint-Petersburg']\n",
    "spb_general"
   ]
  },
  {
   "cell_type": "markdown",
   "metadata": {
    "id": "MEJV-CX2_Zcu"
   },
   "source": [
    "Создайте функцию `genre_weekday()` с четырьмя параметрами:\n",
    "* таблица (датафрейм) с данными,\n",
    "* день недели,\n",
    "* начальная временная метка в формате 'hh:mm', \n",
    "* последняя временная метка в формате 'hh:mm'.\n",
    "\n",
    "Функция должна вернуть информацию о топ-10 жанров тех треков, которые прослушивали в указанный день, в промежутке между двумя отметками времени."
   ]
  },
  {
   "cell_type": "code",
   "execution_count": 30,
   "metadata": {
    "id": "laJT9BYl_Zcu"
   },
   "outputs": [],
   "source": [
    "# Объявление функции genre_weekday() с параметрами table, day, time1, time2,\n",
    "# которая возвращает информацию о самых популярных жанрах в указанный день в\n",
    "# заданное время:\n",
    "# 1) в переменную genre_df сохраняются те строки переданного датафрейма table, для\n",
    "#    которых одновременно:\n",
    "#    - значение в столбце day равно значению аргумента day\n",
    "#    - значение в столбце time больше значения аргумента time1\n",
    "#    - значение в столбце time меньше значения аргумента time2\n",
    "#    Используйте последовательную фильтрацию с помощью логической индексации.\n",
    "# 2) сгруппировать датафрейм genre_df по столбцу genre, взять один из его\n",
    "#    столбцов и посчитать методом count() количество записей для каждого из\n",
    "#    присутствующих жанров, получившийся Series записать в переменную\n",
    "#    genre_df_count\n",
    "# 3) отсортировать genre_df_count по убыванию встречаемости и сохранить\n",
    "#    в переменную genre_df_sorted\n",
    "# 4) вернуть Series из 10 первых значений genre_df_sorted, это будут топ-10\n",
    "#    популярных жанров (в указанный день, в заданное время)\n",
    "\n",
    "def genre_weekday(table, day, time1, time2):\n",
    "    genre_df = table[table['day'] == day]\n",
    "    genre_df = genre_df[genre_df['time'] > time1]\n",
    "    genre_df = genre_df[genre_df['time'] < time2]\n",
    "    \n",
    "    genre_df_count = genre_df.groupby('genre')['genre'].count()\n",
    "    \n",
    "    genre_df_sorted = genre_df_count.sort_values(ascending = False)\n",
    "    \n",
    "    return genre_df_sorted.head(10)"
   ]
  },
  {
   "cell_type": "markdown",
   "metadata": {},
   "source": [
    "<div class=\"alert alert-success\">\n",
    "<b>✔️ Комментарий ревьюера: </b> \n",
    "<br>Замечательно! Здесь тоже все верно.\n",
    "</div>\n",
    "\n",
    "<div class=\"alert alert-warning\">\n",
    "<b>⚠️ Комментарий ревьюера:</b> \n",
    "<br>Как можно это сделать другим способом:\n",
    "<br>1. В одну строку: \n",
    "    \n",
    "    genre_df = table[(table['day'] == day) & (table['time'] > time1) & (table['time'] < time2)]\n",
    "<br>2. Через метод query(): \n",
    "\n",
    "    genre_df = table.query('@day==day and @time1 < time < @time2')\n",
    "<br>Метод query вы будете изучать в следующем спринте, а пока про него можно почитать в документации pandas:\n",
    "\n",
    "\thttps://pandas.pydata.org/docs/reference/api/pandas.DataFrame.query.html\n",
    "</div>"
   ]
  },
  {
   "cell_type": "markdown",
   "metadata": {
    "id": "la2s2_PF_Zcu"
   },
   "source": [
    "Cравните результаты функции `genre_weekday()` для Москвы и Санкт-Петербурга в понедельник утром (с 7:00 до 11:00) и в пятницу вечером (с 17:00 до 23:00):"
   ]
  },
  {
   "cell_type": "code",
   "execution_count": 31,
   "metadata": {
    "id": "yz7itPUQ_Zcu"
   },
   "outputs": [
    {
     "data": {
      "text/plain": [
       "genre\n",
       "pop            781\n",
       "dance          549\n",
       "electronic     480\n",
       "rock           474\n",
       "hiphop         286\n",
       "ruspop         186\n",
       "world          181\n",
       "rusrap         175\n",
       "alternative    164\n",
       "unknown        161\n",
       "Name: genre, dtype: int64"
      ]
     },
     "execution_count": 31,
     "metadata": {},
     "output_type": "execute_result"
    }
   ],
   "source": [
    "# вызов функции для утра понедельника в Москве (вместо df — таблица moscow_general)\n",
    "# объекты, хранящие время, являются строками и сравниваются как строки\n",
    "# пример вызова: genre_weekday(moscow_general, 'Monday', '07:00', '11:00')\n",
    "\n",
    "#number_tracks('Monday' ,'Moscow')\n",
    "genre_weekday(moscow_general, 'Monday', '07:00', '11:00')"
   ]
  },
  {
   "cell_type": "code",
   "execution_count": 32,
   "metadata": {
    "id": "kwUcHPdy_Zcu"
   },
   "outputs": [
    {
     "data": {
      "text/plain": [
       "genre\n",
       "pop            218\n",
       "dance          182\n",
       "rock           162\n",
       "electronic     147\n",
       "hiphop          80\n",
       "ruspop          64\n",
       "alternative     58\n",
       "rusrap          55\n",
       "jazz            44\n",
       "classical       40\n",
       "Name: genre, dtype: int64"
      ]
     },
     "execution_count": 32,
     "metadata": {},
     "output_type": "execute_result"
    }
   ],
   "source": [
    "# вызов функции для утра понедельника в Петербурге (вместо df — таблица spb_general)\n",
    "genre_weekday(spb_general, 'Monday', '07:00', '11:00')"
   ]
  },
  {
   "cell_type": "code",
   "execution_count": 33,
   "metadata": {
    "id": "EzXVRE1o_Zcu"
   },
   "outputs": [
    {
     "data": {
      "text/plain": [
       "genre\n",
       "pop            717\n",
       "dance          524\n",
       "rock           518\n",
       "electronic     485\n",
       "hiphop         238\n",
       "alternative    182\n",
       "world          172\n",
       "classical      172\n",
       "ruspop         149\n",
       "rusrap         133\n",
       "Name: genre, dtype: int64"
      ]
     },
     "execution_count": 33,
     "metadata": {},
     "output_type": "execute_result"
    }
   ],
   "source": [
    "# вызов функции для вечера пятницы в Москве\n",
    "genre_weekday(moscow_general, 'Monday', '17:00', '23:00')"
   ]
  },
  {
   "cell_type": "code",
   "execution_count": 34,
   "metadata": {
    "id": "JZaEKu5v_Zcu"
   },
   "outputs": [
    {
     "data": {
      "text/plain": [
       "genre\n",
       "pop            263\n",
       "rock           208\n",
       "electronic     192\n",
       "dance          191\n",
       "hiphop         104\n",
       "alternative     72\n",
       "classical       71\n",
       "jazz            57\n",
       "rusrap          54\n",
       "ruspop          53\n",
       "Name: genre, dtype: int64"
      ]
     },
     "execution_count": 34,
     "metadata": {},
     "output_type": "execute_result"
    }
   ],
   "source": [
    "# вызов функции для вечера пятницы в Петербурге\n",
    "genre_weekday(spb_general, 'Monday', '17:00', '23:00')"
   ]
  },
  {
   "cell_type": "markdown",
   "metadata": {},
   "source": [
    "<div class=\"alert alert-danger\">\n",
    "<b>❌ Комментарий ревьюера:</b> \n",
    "<br>Ты 4 раза смотришь понедельник)\n",
    "</div>"
   ]
  },
  {
   "cell_type": "markdown",
   "metadata": {
    "id": "wrCe4MNX_Zcu"
   },
   "source": [
    "**Выводы**\n",
    "\n",
    "Если сравнить топ-10 жанров в понедельник утром, можно сделать такие выводы:\n",
    "\n",
    "1. В Москве и Петербурге слушают похожую музыку. Единственное отличие — в московский рейтинг вошёл жанр “world”, а в петербургский — джаз и классика.\n",
    "\n",
    "2. В Москве пропущенных значений оказалось так много, что значение `'unknown'` заняло десятое место среди самых популярных жанров. Значит, пропущенные значения занимают существенную долю в данных и угрожают достоверности исследования.\n",
    "\n",
    "Вечер пятницы не меняет эту картину. Некоторые жанры поднимаются немного выше, другие спускаются, но в целом топ-10 остаётся тем же самым.\n",
    "\n",
    "Таким образом, вторая гипотеза подтвердилась лишь частично:\n",
    "* Пользователи слушают похожую музыку в начале недели и в конце.\n",
    "* Разница между Москвой и Петербургом не слишком выражена. В Москве чаще слушают русскую популярную музыку, в Петербурге — джаз.\n",
    "\n",
    "Однако пропуски в данных ставят под сомнение этот результат. В Москве их так много, что рейтинг топ-10 мог бы выглядеть иначе, если бы не утерянные  данные о жанрах."
   ]
  },
  {
   "cell_type": "markdown",
   "metadata": {
    "id": "JolODAqr_Zcu"
   },
   "source": [
    "### Жанровые предпочтения в Москве и Петербурге\n",
    "\n",
    "Гипотеза: Петербург — столица рэпа, музыку этого жанра там слушают чаще, чем в Москве.  А Москва — город контрастов, в котором, тем не менее, преобладает поп-музыка."
   ]
  },
  {
   "cell_type": "markdown",
   "metadata": {
    "id": "DlegSvaT_Zcu"
   },
   "source": [
    "Сгруппируйте таблицу `moscow_general` по жанру и посчитайте прослушивания треков каждого жанра методом `count()`. Затем отсортируйте результат в порядке убывания и сохраните его в таблице `moscow_genres`."
   ]
  },
  {
   "cell_type": "code",
   "execution_count": 35,
   "metadata": {
    "id": "r19lIPke_Zcu"
   },
   "outputs": [],
   "source": [
    "# одной строкой: группировка таблицы moscow_general по столбцу 'genre', \n",
    "# подсчёт числа значений 'genre' в этой группировке методом count(), \n",
    "# сортировка получившегося Series в порядке убывания и сохранение в moscow_genres\n",
    "moscow_genres = moscow_general.groupby('genre')['genre'].count().sort_values(ascending = False)\n"
   ]
  },
  {
   "cell_type": "markdown",
   "metadata": {
    "id": "6kMuomxTiIr8"
   },
   "source": [
    "Выведите на экран первые десять строк `moscow_genres`:"
   ]
  },
  {
   "cell_type": "code",
   "execution_count": 36,
   "metadata": {
    "id": "WhCSooF8_Zcv"
   },
   "outputs": [
    {
     "data": {
      "text/plain": [
       "genre\n",
       "pop            5892\n",
       "dance          4435\n",
       "rock           3965\n",
       "electronic     3786\n",
       "hiphop         2096\n",
       "classical      1616\n",
       "world          1432\n",
       "alternative    1379\n",
       "ruspop         1372\n",
       "rusrap         1161\n",
       "Name: genre, dtype: int64"
      ]
     },
     "execution_count": 36,
     "metadata": {},
     "output_type": "execute_result"
    }
   ],
   "source": [
    "# просмотр первых 10 строк moscow_genres\n",
    "moscow_genres.head(10)"
   ]
  },
  {
   "cell_type": "markdown",
   "metadata": {
    "id": "cnPG2vnN_Zcv"
   },
   "source": [
    "Теперь повторите то же и для Петербурга.\n",
    "\n",
    "Сгруппируйте таблицу `spb_general` по жанру. Посчитайте прослушивания треков каждого жанра. Результат отсортируйте в порядке убывания и сохраните в таблице `spb_genres`:\n"
   ]
  },
  {
   "cell_type": "code",
   "execution_count": 37,
   "metadata": {
    "id": "gluLIpE7_Zcv"
   },
   "outputs": [],
   "source": [
    "# одной строкой: группировка таблицы spb_general по столбцу 'genre', \n",
    "# подсчёт числа значений 'genre' в этой группировке методом count(), \n",
    "# сортировка получившегося Series в порядке убывания и сохранение в spb_genres\n",
    "spb_genres = spb_general.groupby('genre')['genre'].count().sort_values(ascending = False)"
   ]
  },
  {
   "cell_type": "markdown",
   "metadata": {
    "id": "5Doha_ODgyQ8"
   },
   "source": [
    "Выведите на экран первые десять строк `spb_genres`:"
   ]
  },
  {
   "cell_type": "code",
   "execution_count": 38,
   "metadata": {
    "id": "uaGJHjVU_Zcv"
   },
   "outputs": [
    {
     "data": {
      "text/plain": [
       "genre\n",
       "pop            2431\n",
       "dance          1932\n",
       "rock           1879\n",
       "electronic     1736\n",
       "hiphop          960\n",
       "alternative     649\n",
       "classical       646\n",
       "rusrap          564\n",
       "ruspop          538\n",
       "world           515\n",
       "Name: genre, dtype: int64"
      ]
     },
     "execution_count": 38,
     "metadata": {},
     "output_type": "execute_result"
    }
   ],
   "source": [
    "# просмотр первых 10 строк spb_genres\n",
    "spb_genres.head(10)"
   ]
  },
  {
   "cell_type": "markdown",
   "metadata": {
    "id": "RY51YJYu_Zcv"
   },
   "source": [
    "**Выводы**"
   ]
  },
  {
   "cell_type": "markdown",
   "metadata": {
    "id": "nVhnJEm__Zcv"
   },
   "source": [
    "Гипотеза частично подтвердилась:\n",
    "* Поп-музыка — самый популярный жанр в Москве, как и предполагала гипотеза. Более того, в топ-10 жанров встречается близкий жанр — русская популярная музыка.\n",
    "* Вопреки ожиданиям, рэп одинаково популярен в Москве и Петербурге. \n"
   ]
  },
  {
   "cell_type": "markdown",
   "metadata": {
    "id": "ykKQ0N65_Zcv"
   },
   "source": [
    "## Итоги исследования"
   ]
  },
  {
   "cell_type": "markdown",
   "metadata": {
    "id": "tjUwbHb3_Zcv"
   },
   "source": [
    "Вы проверили три гипотезы и установили:\n",
    "\n",
    "1. День недели по-разному влияет на активность пользователей в Москве и Петербурге. \n",
    "\n",
    "Первая гипотеза полностью подтвердилась.\n",
    "\n",
    "2. Музыкальные предпочтения не сильно меняются в течение недели — будь то Москва или Петербург. Небольшие различия заметны в начале недели, по понедельникам:\n",
    "* в Москве слушают музыку жанра “world”,\n",
    "* в Петербурге — джаз и классику.\n",
    "\n",
    "Таким образом, вторая гипотеза подтвердилась лишь отчасти. Этот результат мог оказаться иным, если бы не пропуски в данных.\n",
    "\n",
    "3. Во вкусах пользователей Москвы и Петербурга больше общего чем различий. Вопреки ожиданиям, предпочтения жанров в Петербурге напоминают московские.\n",
    "\n",
    "Третья гипотеза не подтвердилась. Если различия в предпочтениях и существуют, на основной массе пользователей они незаметны.\n",
    "\n",
    "**На практике исследования содержат проверки статистических гипотез.**\n",
    "Из данных одного сервиса не всегда можно сделать вывод о всех жителях города.\n",
    "Проверки статистических гипотез покажут, насколько они достоверны, исходя из имеющихся данных. \n",
    "С методами проверок гипотез вы ещё познакомитесь в следующих темах."
   ]
  },
  {
   "cell_type": "markdown",
   "metadata": {},
   "source": [
    "<div class=\"alert alert-danger\">\n",
    "<b>❌ Итоговый комментарий ревьюера:</b> \n",
    "<br>Ты хорошо потрудился, большая часть работы сделана, но остаётся внести следующие правки:\n",
    "<br>- Ответить на вопрос в шаге 1\n",
    "<br>- Применить метод .sort_values() для сортировки значений\n",
    "<br>- Корректно выбрать дни и время\n",
    "</div>"
   ]
  }
 ],
 "metadata": {
  "ExecuteTimeLog": [
   {
    "duration": 243,
    "start_time": "2021-12-20T08:50:07.137Z"
   },
   {
    "duration": 196,
    "start_time": "2021-12-20T08:50:13.501Z"
   },
   {
    "duration": 182,
    "start_time": "2021-12-20T08:50:31.060Z"
   },
   {
    "duration": 266,
    "start_time": "2021-12-20T08:50:35.859Z"
   },
   {
    "duration": 565,
    "start_time": "2021-12-20T08:50:38.699Z"
   },
   {
    "duration": 1579,
    "start_time": "2021-12-20T08:50:40.900Z"
   },
   {
    "duration": 1481,
    "start_time": "2021-12-20T08:51:17.893Z"
   },
   {
    "duration": 148,
    "start_time": "2021-12-20T08:51:51.453Z"
   },
   {
    "duration": 7,
    "start_time": "2021-12-20T08:52:11.812Z"
   },
   {
    "duration": 176,
    "start_time": "2021-12-20T08:55:42.467Z"
   },
   {
    "duration": 179,
    "start_time": "2021-12-20T08:55:51.705Z"
   },
   {
    "duration": 180,
    "start_time": "2021-12-20T08:56:22.986Z"
   },
   {
    "duration": 3,
    "start_time": "2021-12-20T08:56:34.341Z"
   },
   {
    "duration": 137,
    "start_time": "2021-12-20T08:56:35.545Z"
   },
   {
    "duration": 6,
    "start_time": "2021-12-20T08:56:37.144Z"
   },
   {
    "duration": 191,
    "start_time": "2021-12-20T08:56:39.553Z"
   },
   {
    "duration": 180,
    "start_time": "2021-12-20T08:57:02.338Z"
   },
   {
    "duration": 8,
    "start_time": "2021-12-20T08:58:30.105Z"
   },
   {
    "duration": 4,
    "start_time": "2021-12-20T08:59:48.873Z"
   },
   {
    "duration": 4,
    "start_time": "2021-12-20T08:59:57.145Z"
   },
   {
    "duration": 9,
    "start_time": "2021-12-20T09:00:10.157Z"
   },
   {
    "duration": 9,
    "start_time": "2021-12-20T09:02:05.615Z"
   },
   {
    "duration": 29,
    "start_time": "2021-12-20T09:03:18.608Z"
   },
   {
    "duration": 23,
    "start_time": "2021-12-20T09:03:30.714Z"
   },
   {
    "duration": 22,
    "start_time": "2021-12-20T09:03:43.932Z"
   },
   {
    "duration": 170,
    "start_time": "2021-12-20T09:03:54.503Z"
   },
   {
    "duration": 22,
    "start_time": "2021-12-20T09:03:59.183Z"
   },
   {
    "duration": 237,
    "start_time": "2021-12-20T09:04:09.119Z"
   },
   {
    "duration": 22,
    "start_time": "2021-12-20T09:04:15.863Z"
   },
   {
    "duration": 3,
    "start_time": "2021-12-20T09:06:09.046Z"
   },
   {
    "duration": 22,
    "start_time": "2021-12-20T09:06:11.599Z"
   },
   {
    "duration": 18,
    "start_time": "2021-12-20T09:07:22.992Z"
   },
   {
    "duration": 17,
    "start_time": "2021-12-20T09:07:25.605Z"
   },
   {
    "duration": 3,
    "start_time": "2021-12-20T09:07:35.550Z"
   },
   {
    "duration": 12,
    "start_time": "2021-12-20T09:07:40.522Z"
   },
   {
    "duration": 3,
    "start_time": "2021-12-20T09:07:46.015Z"
   },
   {
    "duration": 12,
    "start_time": "2021-12-20T09:09:47.393Z"
   },
   {
    "duration": 3,
    "start_time": "2021-12-20T09:09:51.774Z"
   },
   {
    "duration": 21,
    "start_time": "2021-12-20T09:11:11.514Z"
   },
   {
    "duration": 4,
    "start_time": "2021-12-20T09:11:21.829Z"
   },
   {
    "duration": 22,
    "start_time": "2021-12-20T09:11:33.917Z"
   },
   {
    "duration": 9,
    "start_time": "2021-12-20T09:15:37.899Z"
   },
   {
    "duration": 22,
    "start_time": "2021-12-20T09:15:47.731Z"
   },
   {
    "duration": 18,
    "start_time": "2021-12-20T09:17:30.060Z"
   },
   {
    "duration": 23,
    "start_time": "2021-12-20T09:17:32.548Z"
   },
   {
    "duration": 24,
    "start_time": "2021-12-20T09:21:21.050Z"
   },
   {
    "duration": 22,
    "start_time": "2021-12-20T09:28:49.683Z"
   },
   {
    "duration": 2,
    "start_time": "2021-12-20T09:28:57.988Z"
   },
   {
    "duration": 135,
    "start_time": "2021-12-20T09:29:00.066Z"
   },
   {
    "duration": 6,
    "start_time": "2021-12-20T09:29:02.139Z"
   },
   {
    "duration": 24,
    "start_time": "2021-12-20T09:29:05.257Z"
   },
   {
    "duration": 3,
    "start_time": "2021-12-20T09:29:09.585Z"
   },
   {
    "duration": 21,
    "start_time": "2021-12-20T09:29:12.666Z"
   },
   {
    "duration": 3,
    "start_time": "2021-12-20T09:29:15.474Z"
   },
   {
    "duration": 22,
    "start_time": "2021-12-20T09:29:18.370Z"
   },
   {
    "duration": 4821,
    "start_time": "2021-12-20T09:29:23.453Z"
   },
   {
    "duration": -74,
    "start_time": "2021-12-20T09:29:28.351Z"
   },
   {
    "duration": 4914,
    "start_time": "2021-12-20T09:29:50.836Z"
   },
   {
    "duration": 4832,
    "start_time": "2021-12-20T09:30:08.453Z"
   },
   {
    "duration": 6441,
    "start_time": "2021-12-20T09:31:08.825Z"
   },
   {
    "duration": 26,
    "start_time": "2021-12-20T09:35:20.628Z"
   },
   {
    "duration": 24,
    "start_time": "2021-12-20T09:35:26.817Z"
   },
   {
    "duration": 25,
    "start_time": "2021-12-20T09:35:32.260Z"
   },
   {
    "duration": 23,
    "start_time": "2021-12-20T09:35:38.775Z"
   },
   {
    "duration": 25,
    "start_time": "2021-12-20T09:36:07.305Z"
   },
   {
    "duration": 24,
    "start_time": "2021-12-20T09:36:26.770Z"
   },
   {
    "duration": 23,
    "start_time": "2021-12-20T09:36:30.660Z"
   },
   {
    "duration": 24,
    "start_time": "2021-12-20T09:36:33.344Z"
   },
   {
    "duration": 197,
    "start_time": "2021-12-20T09:37:04.777Z"
   },
   {
    "duration": 40,
    "start_time": "2021-12-20T09:37:12.390Z"
   },
   {
    "duration": 198,
    "start_time": "2021-12-20T09:49:38.810Z"
   },
   {
    "duration": 179,
    "start_time": "2021-12-20T09:49:40.279Z"
   },
   {
    "duration": 249,
    "start_time": "2021-12-20T09:49:51.144Z"
   },
   {
    "duration": 217,
    "start_time": "2021-12-20T09:53:04.672Z"
   },
   {
    "duration": 185,
    "start_time": "2021-12-20T09:53:13.446Z"
   },
   {
    "duration": 177,
    "start_time": "2021-12-20T09:54:38.983Z"
   },
   {
    "duration": 169,
    "start_time": "2021-12-20T09:55:24.901Z"
   },
   {
    "duration": 210,
    "start_time": "2021-12-20T09:55:40.021Z"
   },
   {
    "duration": 187,
    "start_time": "2021-12-20T09:57:32.051Z"
   },
   {
    "duration": 575,
    "start_time": "2021-12-20T09:58:57.709Z"
   },
   {
    "duration": 482,
    "start_time": "2021-12-20T09:59:19.053Z"
   },
   {
    "duration": 4,
    "start_time": "2021-12-20T09:59:29.379Z"
   },
   {
    "duration": 3,
    "start_time": "2021-12-20T09:59:32.653Z"
   },
   {
    "duration": 41,
    "start_time": "2021-12-20T09:59:38.932Z"
   },
   {
    "duration": 4,
    "start_time": "2021-12-20T09:59:45.540Z"
   },
   {
    "duration": 4,
    "start_time": "2021-12-20T09:59:52.068Z"
   },
   {
    "duration": 4,
    "start_time": "2021-12-20T09:59:57.195Z"
   },
   {
    "duration": 41,
    "start_time": "2021-12-20T10:00:00.995Z"
   },
   {
    "duration": 40,
    "start_time": "2021-12-20T10:00:03.434Z"
   },
   {
    "duration": 55,
    "start_time": "2021-12-20T10:40:47.324Z"
   },
   {
    "duration": 198,
    "start_time": "2021-12-20T10:40:56.049Z"
   },
   {
    "duration": 211,
    "start_time": "2021-12-20T10:41:13.611Z"
   },
   {
    "duration": 180,
    "start_time": "2021-12-20T10:42:08.794Z"
   },
   {
    "duration": 41,
    "start_time": "2021-12-20T10:42:34.097Z"
   },
   {
    "duration": 192,
    "start_time": "2021-12-20T10:43:29.945Z"
   },
   {
    "duration": 182,
    "start_time": "2021-12-20T10:43:36.538Z"
   },
   {
    "duration": 173,
    "start_time": "2021-12-20T10:47:11.648Z"
   },
   {
    "duration": 183,
    "start_time": "2021-12-20T10:51:38.601Z"
   },
   {
    "duration": 4,
    "start_time": "2021-12-20T10:51:45.070Z"
   },
   {
    "duration": 25,
    "start_time": "2021-12-20T10:51:47.509Z"
   },
   {
    "duration": 182,
    "start_time": "2021-12-20T10:51:54.391Z"
   },
   {
    "duration": 188,
    "start_time": "2021-12-20T10:52:23.520Z"
   },
   {
    "duration": 185,
    "start_time": "2021-12-20T10:53:26.086Z"
   },
   {
    "duration": 176,
    "start_time": "2021-12-20T10:55:31.854Z"
   },
   {
    "duration": 173,
    "start_time": "2021-12-20T10:59:40.706Z"
   },
   {
    "duration": 179,
    "start_time": "2021-12-20T10:59:55.822Z"
   },
   {
    "duration": 170,
    "start_time": "2021-12-20T11:00:16.997Z"
   },
   {
    "duration": 11,
    "start_time": "2021-12-20T11:00:24.392Z"
   },
   {
    "duration": 1356,
    "start_time": "2021-12-20T11:01:15.494Z"
   },
   {
    "duration": 4,
    "start_time": "2021-12-20T11:02:53.704Z"
   },
   {
    "duration": 63,
    "start_time": "2021-12-20T11:03:03.813Z"
   },
   {
    "duration": 186,
    "start_time": "2021-12-20T11:03:12.720Z"
   },
   {
    "duration": 245,
    "start_time": "2021-12-20T11:05:11.325Z"
   },
   {
    "duration": 181,
    "start_time": "2021-12-20T11:09:39.884Z"
   },
   {
    "duration": 171,
    "start_time": "2021-12-20T11:10:04.668Z"
   },
   {
    "duration": 16,
    "start_time": "2021-12-20T11:11:13.251Z"
   },
   {
    "duration": 24,
    "start_time": "2021-12-20T11:11:20.153Z"
   },
   {
    "duration": 52,
    "start_time": "2021-12-20T11:12:28.761Z"
   },
   {
    "duration": 59,
    "start_time": "2021-12-20T11:13:51.408Z"
   },
   {
    "duration": 49,
    "start_time": "2021-12-20T11:13:57.832Z"
   },
   {
    "duration": 173,
    "start_time": "2021-12-20T11:15:49.171Z"
   },
   {
    "duration": 7,
    "start_time": "2021-12-20T11:24:05.719Z"
   },
   {
    "duration": 63,
    "start_time": "2021-12-20T11:28:21.319Z"
   },
   {
    "duration": 57,
    "start_time": "2021-12-20T11:28:45.782Z"
   },
   {
    "duration": 63,
    "start_time": "2021-12-20T11:28:52.333Z"
   },
   {
    "duration": 61,
    "start_time": "2021-12-20T11:28:56.234Z"
   },
   {
    "duration": 60,
    "start_time": "2021-12-20T11:29:01.375Z"
   },
   {
    "duration": 21,
    "start_time": "2021-12-20T11:29:08.062Z"
   },
   {
    "duration": 23,
    "start_time": "2021-12-20T11:29:11.656Z"
   },
   {
    "duration": 51,
    "start_time": "2021-12-20T11:29:22.622Z"
   },
   {
    "duration": 52,
    "start_time": "2021-12-20T11:29:40.725Z"
   },
   {
    "duration": 58,
    "start_time": "2021-12-20T11:29:46.229Z"
   },
   {
    "duration": 50,
    "start_time": "2021-12-20T11:29:52.917Z"
   },
   {
    "duration": 4,
    "start_time": "2021-12-20T11:40:06.812Z"
   },
   {
    "duration": 163,
    "start_time": "2021-12-20T11:40:11.338Z"
   },
   {
    "duration": 197,
    "start_time": "2021-12-20T11:40:20.011Z"
   },
   {
    "duration": 9,
    "start_time": "2021-12-20T11:40:25.716Z"
   },
   {
    "duration": 6,
    "start_time": "2021-12-20T11:40:36.948Z"
   },
   {
    "duration": 6,
    "start_time": "2021-12-20T11:40:44.067Z"
   },
   {
    "duration": 3,
    "start_time": "2021-12-20T11:41:15.331Z"
   },
   {
    "duration": 136,
    "start_time": "2021-12-20T11:41:16.225Z"
   },
   {
    "duration": 7,
    "start_time": "2021-12-20T11:41:17.930Z"
   },
   {
    "duration": 25,
    "start_time": "2021-12-20T11:41:19.841Z"
   },
   {
    "duration": 3,
    "start_time": "2021-12-20T11:41:23.331Z"
   },
   {
    "duration": 18,
    "start_time": "2021-12-20T11:41:25.929Z"
   },
   {
    "duration": 4,
    "start_time": "2021-12-20T11:41:27.651Z"
   },
   {
    "duration": 24,
    "start_time": "2021-12-20T11:41:29.362Z"
   },
   {
    "duration": 23,
    "start_time": "2021-12-20T11:41:32.098Z"
   },
   {
    "duration": 18,
    "start_time": "2021-12-20T11:41:37.609Z"
   },
   {
    "duration": 22,
    "start_time": "2021-12-20T11:41:39.053Z"
   },
   {
    "duration": 55,
    "start_time": "2021-12-20T11:41:42.241Z"
   },
   {
    "duration": 62,
    "start_time": "2021-12-20T11:41:44.587Z"
   },
   {
    "duration": 51,
    "start_time": "2021-12-20T11:41:47.746Z"
   },
   {
    "duration": 7,
    "start_time": "2021-12-20T11:41:50.105Z"
   },
   {
    "duration": 3,
    "start_time": "2021-12-20T11:41:58.577Z"
   },
   {
    "duration": 10,
    "start_time": "2021-12-20T11:42:05.314Z"
   },
   {
    "duration": 6,
    "start_time": "2021-12-20T11:42:07.073Z"
   },
   {
    "duration": 426,
    "start_time": "2021-12-20T14:09:56.697Z"
   },
   {
    "duration": 751,
    "start_time": "2021-12-20T14:10:27.745Z"
   },
   {
    "duration": 558,
    "start_time": "2021-12-20T14:10:40.796Z"
   },
   {
    "duration": 761,
    "start_time": "2021-12-20T14:11:01.996Z"
   },
   {
    "duration": 186,
    "start_time": "2021-12-20T14:11:02.759Z"
   },
   {
    "duration": 14,
    "start_time": "2021-12-20T14:11:02.948Z"
   },
   {
    "duration": 35,
    "start_time": "2021-12-20T14:11:02.966Z"
   },
   {
    "duration": 5,
    "start_time": "2021-12-20T14:11:03.004Z"
   },
   {
    "duration": 68,
    "start_time": "2021-12-20T14:11:03.012Z"
   },
   {
    "duration": 13,
    "start_time": "2021-12-20T14:11:03.082Z"
   },
   {
    "duration": 30,
    "start_time": "2021-12-20T14:11:03.098Z"
   },
   {
    "duration": 48,
    "start_time": "2021-12-20T14:11:03.131Z"
   },
   {
    "duration": 33,
    "start_time": "2021-12-20T14:11:03.181Z"
   },
   {
    "duration": 126,
    "start_time": "2021-12-20T14:11:03.216Z"
   },
   {
    "duration": 109,
    "start_time": "2021-12-20T14:11:03.345Z"
   },
   {
    "duration": 75,
    "start_time": "2021-12-20T14:11:03.460Z"
   },
   {
    "duration": 21,
    "start_time": "2021-12-20T14:11:03.538Z"
   },
   {
    "duration": 4,
    "start_time": "2021-12-20T14:11:03.561Z"
   },
   {
    "duration": 16,
    "start_time": "2021-12-20T14:11:03.567Z"
   },
   {
    "duration": 9,
    "start_time": "2021-12-20T14:11:05.852Z"
   },
   {
    "duration": 39,
    "start_time": "2021-12-20T14:11:09.602Z"
   },
   {
    "duration": 14,
    "start_time": "2021-12-20T14:13:08.793Z"
   },
   {
    "duration": 37,
    "start_time": "2021-12-20T14:14:14.449Z"
   },
   {
    "duration": 38,
    "start_time": "2021-12-20T14:14:29.344Z"
   },
   {
    "duration": 25,
    "start_time": "2021-12-20T14:14:45.529Z"
   },
   {
    "duration": 18,
    "start_time": "2021-12-20T14:16:12.461Z"
   },
   {
    "duration": 14,
    "start_time": "2021-12-20T14:18:23.687Z"
   },
   {
    "duration": 13,
    "start_time": "2021-12-20T14:18:34.157Z"
   },
   {
    "duration": 401,
    "start_time": "2021-12-20T14:19:05.928Z"
   },
   {
    "duration": 7,
    "start_time": "2021-12-20T14:19:14.023Z"
   },
   {
    "duration": 43,
    "start_time": "2021-12-20T14:20:27.366Z"
   },
   {
    "duration": 42,
    "start_time": "2021-12-20T14:20:30.863Z"
   },
   {
    "duration": 643,
    "start_time": "2021-12-20T14:20:44.698Z"
   },
   {
    "duration": 14,
    "start_time": "2021-12-20T14:20:50.871Z"
   },
   {
    "duration": 401,
    "start_time": "2021-12-20T14:21:09.783Z"
   },
   {
    "duration": 384,
    "start_time": "2021-12-20T14:21:13.040Z"
   },
   {
    "duration": 4495,
    "start_time": "2021-12-20T14:21:16.119Z"
   },
   {
    "duration": 8386,
    "start_time": "2021-12-20T14:21:34.336Z"
   },
   {
    "duration": 129,
    "start_time": "2021-12-20T14:22:35.434Z"
   },
   {
    "duration": 4,
    "start_time": "2021-12-20T14:22:40.015Z"
   },
   {
    "duration": 4,
    "start_time": "2021-12-20T14:23:56.898Z"
   },
   {
    "duration": 18,
    "start_time": "2021-12-20T14:24:23.375Z"
   },
   {
    "duration": 117,
    "start_time": "2021-12-20T14:24:55.429Z"
   },
   {
    "duration": 16,
    "start_time": "2021-12-20T14:25:38.077Z"
   },
   {
    "duration": 13,
    "start_time": "2021-12-20T14:25:54.952Z"
   },
   {
    "duration": 15,
    "start_time": "2021-12-20T14:26:51.368Z"
   },
   {
    "duration": 131,
    "start_time": "2021-12-20T14:27:00.827Z"
   },
   {
    "duration": 14,
    "start_time": "2021-12-20T14:27:05.660Z"
   },
   {
    "duration": 5,
    "start_time": "2021-12-20T14:27:47.557Z"
   },
   {
    "duration": 5,
    "start_time": "2021-12-20T14:27:56.684Z"
   },
   {
    "duration": 13,
    "start_time": "2021-12-20T14:31:28.982Z"
   },
   {
    "duration": 160,
    "start_time": "2021-12-20T14:32:08.862Z"
   },
   {
    "duration": 12,
    "start_time": "2021-12-20T14:32:17.340Z"
   },
   {
    "duration": 13,
    "start_time": "2021-12-20T14:32:23.906Z"
   },
   {
    "duration": 823,
    "start_time": "2021-12-20T14:33:11.852Z"
   },
   {
    "duration": 381,
    "start_time": "2021-12-20T14:33:27.700Z"
   },
   {
    "duration": 24,
    "start_time": "2021-12-20T14:33:33.492Z"
   },
   {
    "duration": 26,
    "start_time": "2021-12-20T14:33:51.019Z"
   },
   {
    "duration": 13,
    "start_time": "2021-12-20T14:36:12.572Z"
   },
   {
    "duration": 14,
    "start_time": "2021-12-20T14:36:14.643Z"
   },
   {
    "duration": 390,
    "start_time": "2021-12-20T14:36:50.202Z"
   },
   {
    "duration": 45,
    "start_time": "2021-12-20T14:37:00.347Z"
   },
   {
    "duration": 66,
    "start_time": "2021-12-20T14:39:44.484Z"
   },
   {
    "duration": 64,
    "start_time": "2021-12-20T14:39:55.523Z"
   },
   {
    "duration": 64,
    "start_time": "2021-12-20T14:40:17.298Z"
   },
   {
    "duration": 130,
    "start_time": "2021-12-20T14:40:47.617Z"
   },
   {
    "duration": 67,
    "start_time": "2021-12-20T14:41:00.899Z"
   },
   {
    "duration": 73,
    "start_time": "2021-12-20T14:41:52.490Z"
   },
   {
    "duration": 125,
    "start_time": "2021-12-20T14:42:01.134Z"
   },
   {
    "duration": 74,
    "start_time": "2021-12-20T14:42:26.377Z"
   },
   {
    "duration": 72,
    "start_time": "2021-12-20T14:43:14.292Z"
   },
   {
    "duration": 77,
    "start_time": "2021-12-20T14:43:46.258Z"
   },
   {
    "duration": 15,
    "start_time": "2021-12-20T14:44:01.890Z"
   },
   {
    "duration": 12,
    "start_time": "2021-12-20T14:44:08.321Z"
   },
   {
    "duration": 11,
    "start_time": "2021-12-20T14:44:10.832Z"
   },
   {
    "duration": 14,
    "start_time": "2021-12-20T14:44:13.992Z"
   },
   {
    "duration": 9,
    "start_time": "2021-12-20T14:44:20.329Z"
   },
   {
    "duration": 113,
    "start_time": "2021-12-21T05:46:16.223Z"
   },
   {
    "duration": 365,
    "start_time": "2021-12-21T06:24:16.699Z"
   },
   {
    "duration": 637,
    "start_time": "2021-12-21T06:24:28.289Z"
   },
   {
    "duration": 138,
    "start_time": "2021-12-21T06:24:28.927Z"
   },
   {
    "duration": 6,
    "start_time": "2021-12-21T06:24:29.068Z"
   },
   {
    "duration": 33,
    "start_time": "2021-12-21T06:24:29.076Z"
   },
   {
    "duration": 5,
    "start_time": "2021-12-21T06:24:29.111Z"
   },
   {
    "duration": 23,
    "start_time": "2021-12-21T06:24:29.117Z"
   },
   {
    "duration": 11,
    "start_time": "2021-12-21T06:24:29.142Z"
   },
   {
    "duration": 25,
    "start_time": "2021-12-21T06:24:29.155Z"
   },
   {
    "duration": 39,
    "start_time": "2021-12-21T06:24:29.182Z"
   },
   {
    "duration": 22,
    "start_time": "2021-12-21T06:24:29.223Z"
   },
   {
    "duration": 78,
    "start_time": "2021-12-21T06:24:29.247Z"
   },
   {
    "duration": 80,
    "start_time": "2021-12-21T06:24:29.326Z"
   },
   {
    "duration": 51,
    "start_time": "2021-12-21T06:24:29.408Z"
   },
   {
    "duration": 6,
    "start_time": "2021-12-21T06:24:29.461Z"
   },
   {
    "duration": 3,
    "start_time": "2021-12-21T06:24:29.468Z"
   },
   {
    "duration": 11,
    "start_time": "2021-12-21T06:24:29.473Z"
   },
   {
    "duration": 7,
    "start_time": "2021-12-21T06:24:29.506Z"
   },
   {
    "duration": 12,
    "start_time": "2021-12-21T06:24:29.515Z"
   },
   {
    "duration": 11,
    "start_time": "2021-12-21T06:24:29.529Z"
   },
   {
    "duration": 5,
    "start_time": "2021-12-21T06:24:31.103Z"
   },
   {
    "duration": 4,
    "start_time": "2021-12-21T06:24:44.239Z"
   },
   {
    "duration": 5790,
    "start_time": "2021-12-21T06:24:54.110Z"
   },
   {
    "duration": 5,
    "start_time": "2021-12-21T06:38:21.987Z"
   },
   {
    "duration": 10,
    "start_time": "2021-12-21T06:58:44.912Z"
   },
   {
    "duration": 4,
    "start_time": "2021-12-21T07:26:11.867Z"
   },
   {
    "duration": 3,
    "start_time": "2021-12-21T07:26:15.121Z"
   },
   {
    "duration": 693,
    "start_time": "2021-12-21T07:27:17.856Z"
   },
   {
    "duration": 4,
    "start_time": "2021-12-21T07:27:44.153Z"
   },
   {
    "duration": 717,
    "start_time": "2021-12-21T07:27:48.050Z"
   },
   {
    "duration": 3,
    "start_time": "2021-12-21T07:31:03.342Z"
   },
   {
    "duration": 32,
    "start_time": "2021-12-21T07:31:06.703Z"
   },
   {
    "duration": 4,
    "start_time": "2021-12-21T07:31:32.912Z"
   },
   {
    "duration": 281,
    "start_time": "2021-12-21T07:32:14.832Z"
   },
   {
    "duration": 42,
    "start_time": "2021-12-21T07:32:16.638Z"
   },
   {
    "duration": 4,
    "start_time": "2021-12-21T07:33:18.031Z"
   },
   {
    "duration": 23,
    "start_time": "2021-12-21T07:33:20.384Z"
   },
   {
    "duration": 130,
    "start_time": "2021-12-21T07:33:41.991Z"
   },
   {
    "duration": 112,
    "start_time": "2021-12-21T07:33:51.656Z"
   },
   {
    "duration": 4,
    "start_time": "2021-12-21T07:33:56.495Z"
   },
   {
    "duration": 1124,
    "start_time": "2021-12-21T07:33:58.262Z"
   },
   {
    "duration": 4,
    "start_time": "2021-12-21T07:34:15.440Z"
   },
   {
    "duration": 1120,
    "start_time": "2021-12-21T07:34:18.008Z"
   },
   {
    "duration": 4,
    "start_time": "2021-12-21T07:34:27.522Z"
   },
   {
    "duration": 22,
    "start_time": "2021-12-21T07:34:31.631Z"
   },
   {
    "duration": 3,
    "start_time": "2021-12-21T07:36:11.704Z"
   },
   {
    "duration": 16,
    "start_time": "2021-12-21T07:36:13.910Z"
   },
   {
    "duration": 15,
    "start_time": "2021-12-21T07:36:45.256Z"
   },
   {
    "duration": 24,
    "start_time": "2021-12-21T07:37:45.767Z"
   },
   {
    "duration": 12,
    "start_time": "2021-12-21T07:37:47.325Z"
   },
   {
    "duration": 18,
    "start_time": "2021-12-21T07:37:49.181Z"
   },
   {
    "duration": 16,
    "start_time": "2021-12-21T07:37:50.478Z"
   },
   {
    "duration": 16,
    "start_time": "2021-12-21T07:37:54.997Z"
   },
   {
    "duration": 3,
    "start_time": "2021-12-21T07:38:29.006Z"
   },
   {
    "duration": 2,
    "start_time": "2021-12-21T07:38:32.119Z"
   },
   {
    "duration": 3,
    "start_time": "2021-12-21T07:42:09.581Z"
   },
   {
    "duration": 144,
    "start_time": "2021-12-21T07:46:02.056Z"
   },
   {
    "duration": 125,
    "start_time": "2021-12-21T07:46:05.221Z"
   },
   {
    "duration": 507,
    "start_time": "2021-12-21T07:46:16.836Z"
   },
   {
    "duration": 335,
    "start_time": "2021-12-21T07:46:26.992Z"
   },
   {
    "duration": 351,
    "start_time": "2021-12-21T07:46:39.955Z"
   },
   {
    "duration": 412,
    "start_time": "2021-12-21T07:47:06.140Z"
   },
   {
    "duration": 360,
    "start_time": "2021-12-21T07:49:02.506Z"
   },
   {
    "duration": 119,
    "start_time": "2021-12-21T07:49:34.044Z"
   },
   {
    "duration": 339,
    "start_time": "2021-12-21T07:50:34.969Z"
   },
   {
    "duration": 337,
    "start_time": "2021-12-21T07:51:27.428Z"
   },
   {
    "duration": 338,
    "start_time": "2021-12-21T07:51:31.978Z"
   },
   {
    "duration": 350,
    "start_time": "2021-12-21T07:54:41.667Z"
   },
   {
    "duration": 325,
    "start_time": "2021-12-21T07:55:53.148Z"
   },
   {
    "duration": 354,
    "start_time": "2021-12-21T07:56:19.460Z"
   },
   {
    "duration": 350,
    "start_time": "2021-12-21T07:56:43.874Z"
   },
   {
    "duration": 344,
    "start_time": "2021-12-21T07:57:05.484Z"
   },
   {
    "duration": 358,
    "start_time": "2021-12-21T07:57:10.611Z"
   },
   {
    "duration": 609,
    "start_time": "2021-12-21T07:57:43.820Z"
   },
   {
    "duration": 385,
    "start_time": "2021-12-21T07:58:39.081Z"
   },
   {
    "duration": 352,
    "start_time": "2021-12-21T07:58:48.762Z"
   },
   {
    "duration": 371,
    "start_time": "2021-12-21T07:58:57.464Z"
   },
   {
    "duration": 361,
    "start_time": "2021-12-21T07:59:13.843Z"
   },
   {
    "duration": 358,
    "start_time": "2021-12-21T07:59:20.984Z"
   },
   {
    "duration": 341,
    "start_time": "2021-12-21T08:00:48.016Z"
   },
   {
    "duration": 3,
    "start_time": "2021-12-21T08:01:03.217Z"
   },
   {
    "duration": 150,
    "start_time": "2021-12-21T08:01:03.224Z"
   },
   {
    "duration": 7,
    "start_time": "2021-12-21T08:01:03.377Z"
   },
   {
    "duration": 43,
    "start_time": "2021-12-21T08:01:03.386Z"
   },
   {
    "duration": 16,
    "start_time": "2021-12-21T08:01:03.432Z"
   },
   {
    "duration": 38,
    "start_time": "2021-12-21T08:01:03.451Z"
   },
   {
    "duration": 5,
    "start_time": "2021-12-21T08:01:03.491Z"
   },
   {
    "duration": 37,
    "start_time": "2021-12-21T08:01:03.498Z"
   },
   {
    "duration": 23,
    "start_time": "2021-12-21T08:01:03.539Z"
   },
   {
    "duration": 25,
    "start_time": "2021-12-21T08:01:03.565Z"
   },
   {
    "duration": 55,
    "start_time": "2021-12-21T08:01:03.605Z"
   },
   {
    "duration": 80,
    "start_time": "2021-12-21T08:01:03.661Z"
   },
   {
    "duration": 52,
    "start_time": "2021-12-21T08:01:03.742Z"
   },
   {
    "duration": 15,
    "start_time": "2021-12-21T08:01:03.796Z"
   },
   {
    "duration": 4,
    "start_time": "2021-12-21T08:01:03.813Z"
   },
   {
    "duration": 13,
    "start_time": "2021-12-21T08:01:03.818Z"
   },
   {
    "duration": 7,
    "start_time": "2021-12-21T08:01:03.833Z"
   },
   {
    "duration": 13,
    "start_time": "2021-12-21T08:01:03.842Z"
   },
   {
    "duration": 11,
    "start_time": "2021-12-21T08:01:03.857Z"
   },
   {
    "duration": 38,
    "start_time": "2021-12-21T08:01:03.869Z"
   },
   {
    "duration": 21,
    "start_time": "2021-12-21T08:01:03.910Z"
   },
   {
    "duration": 15,
    "start_time": "2021-12-21T08:01:03.933Z"
   },
   {
    "duration": 15,
    "start_time": "2021-12-21T08:01:03.951Z"
   },
   {
    "duration": 44,
    "start_time": "2021-12-21T08:01:03.969Z"
   },
   {
    "duration": 17,
    "start_time": "2021-12-21T08:01:04.015Z"
   },
   {
    "duration": 18,
    "start_time": "2021-12-21T08:01:07.961Z"
   },
   {
    "duration": 16,
    "start_time": "2021-12-21T08:01:08.967Z"
   },
   {
    "duration": 352,
    "start_time": "2021-12-21T08:01:10.576Z"
   },
   {
    "duration": 346,
    "start_time": "2021-12-21T08:01:16.673Z"
   },
   {
    "duration": 340,
    "start_time": "2021-12-21T08:01:25.616Z"
   },
   {
    "duration": 379,
    "start_time": "2021-12-21T08:01:37.553Z"
   },
   {
    "duration": 340,
    "start_time": "2021-12-21T08:02:42.801Z"
   },
   {
    "duration": 347,
    "start_time": "2021-12-21T08:03:06.455Z"
   },
   {
    "duration": 345,
    "start_time": "2021-12-21T08:09:59.212Z"
   },
   {
    "duration": 1383,
    "start_time": "2021-12-21T08:10:06.992Z"
   },
   {
    "duration": 1481,
    "start_time": "2021-12-21T08:10:26.807Z"
   },
   {
    "duration": 527,
    "start_time": "2021-12-21T08:11:51.551Z"
   },
   {
    "duration": 906,
    "start_time": "2021-12-21T08:12:19.454Z"
   },
   {
    "duration": 1175,
    "start_time": "2021-12-21T08:12:38.808Z"
   },
   {
    "duration": 984,
    "start_time": "2021-12-21T08:14:49.199Z"
   },
   {
    "duration": 350,
    "start_time": "2021-12-21T08:15:13.654Z"
   },
   {
    "duration": 469,
    "start_time": "2021-12-21T08:15:34.631Z"
   },
   {
    "duration": 444,
    "start_time": "2021-12-21T08:15:43.046Z"
   },
   {
    "duration": 360,
    "start_time": "2021-12-21T08:16:00.742Z"
   },
   {
    "duration": 408,
    "start_time": "2021-12-21T08:16:22.309Z"
   },
   {
    "duration": 349,
    "start_time": "2021-12-21T08:16:55.069Z"
   },
   {
    "duration": 321,
    "start_time": "2021-12-21T08:17:29.546Z"
   },
   {
    "duration": 356,
    "start_time": "2021-12-21T08:17:37.800Z"
   },
   {
    "duration": 451,
    "start_time": "2021-12-21T08:17:39.565Z"
   },
   {
    "duration": 341,
    "start_time": "2021-12-21T08:17:52.108Z"
   },
   {
    "duration": 337,
    "start_time": "2021-12-21T08:19:26.575Z"
   },
   {
    "duration": 1708,
    "start_time": "2021-12-21T08:20:22.596Z"
   },
   {
    "duration": 363,
    "start_time": "2021-12-21T08:21:22.340Z"
   },
   {
    "duration": 404,
    "start_time": "2021-12-21T08:21:26.805Z"
   },
   {
    "duration": 353,
    "start_time": "2021-12-21T08:21:38.123Z"
   },
   {
    "duration": 697,
    "start_time": "2021-12-21T08:21:57.902Z"
   },
   {
    "duration": 391,
    "start_time": "2021-12-21T08:22:08.422Z"
   },
   {
    "duration": 367,
    "start_time": "2021-12-21T08:22:16.404Z"
   },
   {
    "duration": 1368,
    "start_time": "2021-12-21T08:22:53.876Z"
   },
   {
    "duration": 692,
    "start_time": "2021-12-21T08:23:13.457Z"
   },
   {
    "duration": 389,
    "start_time": "2021-12-21T08:23:35.188Z"
   },
   {
    "duration": 593,
    "start_time": "2021-12-21T08:24:51.203Z"
   },
   {
    "duration": 1963,
    "start_time": "2021-12-21T08:25:07.966Z"
   },
   {
    "duration": 347,
    "start_time": "2021-12-21T08:25:12.899Z"
   },
   {
    "duration": 399,
    "start_time": "2021-12-21T08:25:29.773Z"
   },
   {
    "duration": 1239,
    "start_time": "2021-12-21T08:25:35.404Z"
   },
   {
    "duration": 376,
    "start_time": "2021-12-21T08:32:32.913Z"
   },
   {
    "duration": 491,
    "start_time": "2021-12-21T08:32:44.344Z"
   },
   {
    "duration": 571,
    "start_time": "2021-12-21T08:33:10.256Z"
   },
   {
    "duration": 350,
    "start_time": "2021-12-21T08:33:33.392Z"
   },
   {
    "duration": 424,
    "start_time": "2021-12-21T08:33:49.224Z"
   },
   {
    "duration": 1208,
    "start_time": "2021-12-21T08:34:24.353Z"
   },
   {
    "duration": 6040,
    "start_time": "2021-12-21T08:35:09.482Z"
   },
   {
    "duration": 383,
    "start_time": "2021-12-21T08:46:45.735Z"
   },
   {
    "duration": 351,
    "start_time": "2021-12-21T08:46:53.805Z"
   },
   {
    "duration": 501,
    "start_time": "2021-12-21T08:47:00.471Z"
   },
   {
    "duration": 380,
    "start_time": "2021-12-21T08:48:17.150Z"
   },
   {
    "duration": 725,
    "start_time": "2021-12-21T09:10:35.871Z"
   },
   {
    "duration": 423,
    "start_time": "2021-12-21T09:18:43.824Z"
   },
   {
    "duration": 2,
    "start_time": "2021-12-21T09:18:57.289Z"
   },
   {
    "duration": 1510,
    "start_time": "2021-12-21T09:18:57.294Z"
   },
   {
    "duration": 6,
    "start_time": "2021-12-21T09:18:58.806Z"
   },
   {
    "duration": 25,
    "start_time": "2021-12-21T09:18:58.814Z"
   },
   {
    "duration": 3,
    "start_time": "2021-12-21T09:18:58.841Z"
   },
   {
    "duration": 17,
    "start_time": "2021-12-21T09:18:58.846Z"
   },
   {
    "duration": 4,
    "start_time": "2021-12-21T09:18:58.864Z"
   },
   {
    "duration": 48,
    "start_time": "2021-12-21T09:18:58.869Z"
   },
   {
    "duration": 17,
    "start_time": "2021-12-21T09:18:58.920Z"
   },
   {
    "duration": 24,
    "start_time": "2021-12-21T09:18:58.939Z"
   },
   {
    "duration": 78,
    "start_time": "2021-12-21T09:18:58.964Z"
   },
   {
    "duration": 67,
    "start_time": "2021-12-21T09:18:59.044Z"
   },
   {
    "duration": 50,
    "start_time": "2021-12-21T09:18:59.113Z"
   },
   {
    "duration": 7,
    "start_time": "2021-12-21T09:18:59.165Z"
   },
   {
    "duration": 4,
    "start_time": "2021-12-21T09:18:59.174Z"
   },
   {
    "duration": 35,
    "start_time": "2021-12-21T09:18:59.180Z"
   },
   {
    "duration": 8,
    "start_time": "2021-12-21T09:18:59.217Z"
   },
   {
    "duration": 11,
    "start_time": "2021-12-21T09:18:59.227Z"
   },
   {
    "duration": 11,
    "start_time": "2021-12-21T09:18:59.240Z"
   },
   {
    "duration": 4,
    "start_time": "2021-12-21T09:18:59.253Z"
   },
   {
    "duration": 52,
    "start_time": "2021-12-21T09:18:59.259Z"
   },
   {
    "duration": 14,
    "start_time": "2021-12-21T09:18:59.313Z"
   },
   {
    "duration": 14,
    "start_time": "2021-12-21T09:18:59.329Z"
   },
   {
    "duration": 14,
    "start_time": "2021-12-21T09:18:59.345Z"
   },
   {
    "duration": 54,
    "start_time": "2021-12-21T09:18:59.362Z"
   },
   {
    "duration": 19,
    "start_time": "2021-12-21T09:18:59.418Z"
   },
   {
    "duration": 341,
    "start_time": "2021-12-21T09:18:59.440Z"
   },
   {
    "duration": 11,
    "start_time": "2021-12-21T09:21:04.982Z"
   },
   {
    "duration": 21,
    "start_time": "2021-12-21T09:21:13.573Z"
   },
   {
    "duration": 9,
    "start_time": "2021-12-21T09:21:44.407Z"
   },
   {
    "duration": 20,
    "start_time": "2021-12-21T09:21:52.029Z"
   },
   {
    "duration": 390,
    "start_time": "2021-12-21T09:23:49.047Z"
   },
   {
    "duration": 3,
    "start_time": "2021-12-21T09:24:10.231Z"
   },
   {
    "duration": 463,
    "start_time": "2021-12-21T09:24:27.833Z"
   },
   {
    "duration": 15,
    "start_time": "2021-12-21T09:24:42.502Z"
   },
   {
    "duration": 634,
    "start_time": "2021-12-21T09:26:42.542Z"
   },
   {
    "duration": 3,
    "start_time": "2021-12-21T09:27:45.915Z"
   },
   {
    "duration": 157,
    "start_time": "2021-12-21T09:27:45.923Z"
   },
   {
    "duration": 8,
    "start_time": "2021-12-21T09:27:46.082Z"
   },
   {
    "duration": 38,
    "start_time": "2021-12-21T09:27:46.093Z"
   },
   {
    "duration": 4,
    "start_time": "2021-12-21T09:27:46.133Z"
   },
   {
    "duration": 23,
    "start_time": "2021-12-21T09:27:46.140Z"
   },
   {
    "duration": 8,
    "start_time": "2021-12-21T09:27:46.165Z"
   },
   {
    "duration": 55,
    "start_time": "2021-12-21T09:27:46.175Z"
   },
   {
    "duration": 17,
    "start_time": "2021-12-21T09:27:46.234Z"
   },
   {
    "duration": 24,
    "start_time": "2021-12-21T09:27:46.254Z"
   },
   {
    "duration": 81,
    "start_time": "2021-12-21T09:27:46.281Z"
   },
   {
    "duration": 83,
    "start_time": "2021-12-21T09:27:46.364Z"
   },
   {
    "duration": 58,
    "start_time": "2021-12-21T09:27:46.448Z"
   },
   {
    "duration": 6,
    "start_time": "2021-12-21T09:27:46.508Z"
   },
   {
    "duration": 4,
    "start_time": "2021-12-21T09:27:46.516Z"
   },
   {
    "duration": 13,
    "start_time": "2021-12-21T09:27:46.521Z"
   },
   {
    "duration": 8,
    "start_time": "2021-12-21T09:27:46.536Z"
   },
   {
    "duration": 12,
    "start_time": "2021-12-21T09:27:46.545Z"
   },
   {
    "duration": 10,
    "start_time": "2021-12-21T09:27:46.559Z"
   },
   {
    "duration": 4,
    "start_time": "2021-12-21T09:27:46.607Z"
   },
   {
    "duration": 22,
    "start_time": "2021-12-21T09:27:46.613Z"
   },
   {
    "duration": 16,
    "start_time": "2021-12-21T09:27:46.637Z"
   },
   {
    "duration": 16,
    "start_time": "2021-12-21T09:27:46.654Z"
   },
   {
    "duration": 39,
    "start_time": "2021-12-21T09:27:46.672Z"
   },
   {
    "duration": 17,
    "start_time": "2021-12-21T09:27:46.713Z"
   },
   {
    "duration": 15,
    "start_time": "2021-12-21T09:27:46.732Z"
   },
   {
    "duration": 23,
    "start_time": "2021-12-21T09:27:55.654Z"
   },
   {
    "duration": 2,
    "start_time": "2021-12-21T11:10:38.726Z"
   },
   {
    "duration": 144,
    "start_time": "2021-12-21T11:10:38.732Z"
   },
   {
    "duration": 6,
    "start_time": "2021-12-21T11:10:38.878Z"
   },
   {
    "duration": 40,
    "start_time": "2021-12-21T11:10:38.886Z"
   },
   {
    "duration": 10,
    "start_time": "2021-12-21T11:10:38.928Z"
   },
   {
    "duration": 19,
    "start_time": "2021-12-21T11:10:38.940Z"
   },
   {
    "duration": 4,
    "start_time": "2021-12-21T11:10:38.961Z"
   },
   {
    "duration": 42,
    "start_time": "2021-12-21T11:10:38.967Z"
   },
   {
    "duration": 18,
    "start_time": "2021-12-21T11:10:39.012Z"
   },
   {
    "duration": 23,
    "start_time": "2021-12-21T11:10:39.032Z"
   },
   {
    "duration": 75,
    "start_time": "2021-12-21T11:10:39.057Z"
   },
   {
    "duration": 72,
    "start_time": "2021-12-21T11:10:39.134Z"
   },
   {
    "duration": 51,
    "start_time": "2021-12-21T11:10:39.208Z"
   },
   {
    "duration": 6,
    "start_time": "2021-12-21T11:10:39.261Z"
   },
   {
    "duration": 3,
    "start_time": "2021-12-21T11:10:39.268Z"
   },
   {
    "duration": 34,
    "start_time": "2021-12-21T11:10:39.273Z"
   },
   {
    "duration": 12,
    "start_time": "2021-12-21T11:10:39.309Z"
   },
   {
    "duration": 10,
    "start_time": "2021-12-21T11:10:39.323Z"
   },
   {
    "duration": 11,
    "start_time": "2021-12-21T11:10:39.335Z"
   },
   {
    "duration": 5,
    "start_time": "2021-12-21T11:10:39.348Z"
   },
   {
    "duration": 21,
    "start_time": "2021-12-21T11:10:39.355Z"
   },
   {
    "duration": 15,
    "start_time": "2021-12-21T11:10:39.407Z"
   },
   {
    "duration": 15,
    "start_time": "2021-12-21T11:10:39.424Z"
   },
   {
    "duration": 17,
    "start_time": "2021-12-21T11:10:39.441Z"
   },
   {
    "duration": 48,
    "start_time": "2021-12-21T11:10:39.460Z"
   },
   {
    "duration": 16,
    "start_time": "2021-12-21T11:10:39.510Z"
   },
   {
    "duration": 22,
    "start_time": "2021-12-21T11:10:45.036Z"
   },
   {
    "duration": 19,
    "start_time": "2021-12-21T11:10:46.792Z"
   },
   {
    "duration": 5,
    "start_time": "2021-12-21T11:10:49.551Z"
   },
   {
    "duration": 834,
    "start_time": "2021-12-21T11:10:52.719Z"
   },
   {
    "duration": 4,
    "start_time": "2021-12-21T11:12:33.096Z"
   },
   {
    "duration": 728,
    "start_time": "2021-12-21T11:12:34.456Z"
   },
   {
    "duration": 4,
    "start_time": "2021-12-21T11:13:04.191Z"
   },
   {
    "duration": 714,
    "start_time": "2021-12-21T11:13:05.735Z"
   },
   {
    "duration": 4,
    "start_time": "2021-12-21T11:13:53.319Z"
   },
   {
    "duration": 992,
    "start_time": "2021-12-21T11:13:55.033Z"
   },
   {
    "duration": 687,
    "start_time": "2021-12-21T11:14:17.504Z"
   },
   {
    "duration": 140,
    "start_time": "2021-12-21T11:14:18.193Z"
   },
   {
    "duration": 7,
    "start_time": "2021-12-21T11:14:18.335Z"
   },
   {
    "duration": 25,
    "start_time": "2021-12-21T11:14:18.344Z"
   },
   {
    "duration": 3,
    "start_time": "2021-12-21T11:14:18.372Z"
   },
   {
    "duration": 47,
    "start_time": "2021-12-21T11:14:18.378Z"
   },
   {
    "duration": 10,
    "start_time": "2021-12-21T11:14:18.427Z"
   },
   {
    "duration": 24,
    "start_time": "2021-12-21T11:14:18.440Z"
   },
   {
    "duration": 19,
    "start_time": "2021-12-21T11:14:18.466Z"
   },
   {
    "duration": 23,
    "start_time": "2021-12-21T11:14:18.507Z"
   },
   {
    "duration": 76,
    "start_time": "2021-12-21T11:14:18.532Z"
   },
   {
    "duration": 69,
    "start_time": "2021-12-21T11:14:18.610Z"
   },
   {
    "duration": 64,
    "start_time": "2021-12-21T11:14:18.681Z"
   },
   {
    "duration": 6,
    "start_time": "2021-12-21T11:14:18.747Z"
   },
   {
    "duration": 2,
    "start_time": "2021-12-21T11:14:18.755Z"
   },
   {
    "duration": 13,
    "start_time": "2021-12-21T11:14:18.759Z"
   },
   {
    "duration": 7,
    "start_time": "2021-12-21T11:14:18.774Z"
   },
   {
    "duration": 10,
    "start_time": "2021-12-21T11:14:18.807Z"
   },
   {
    "duration": 10,
    "start_time": "2021-12-21T11:14:18.819Z"
   },
   {
    "duration": 3,
    "start_time": "2021-12-21T11:14:18.831Z"
   },
   {
    "duration": 18,
    "start_time": "2021-12-21T11:14:18.836Z"
   },
   {
    "duration": 13,
    "start_time": "2021-12-21T11:14:18.856Z"
   },
   {
    "duration": 39,
    "start_time": "2021-12-21T11:14:18.872Z"
   },
   {
    "duration": 13,
    "start_time": "2021-12-21T11:14:18.913Z"
   },
   {
    "duration": 16,
    "start_time": "2021-12-21T11:14:18.928Z"
   },
   {
    "duration": 13,
    "start_time": "2021-12-21T11:14:18.946Z"
   },
   {
    "duration": 6,
    "start_time": "2021-12-21T11:14:18.961Z"
   },
   {
    "duration": 56,
    "start_time": "2021-12-21T11:14:18.968Z"
   },
   {
    "duration": 19,
    "start_time": "2021-12-21T11:14:19.026Z"
   },
   {
    "duration": 460,
    "start_time": "2021-12-21T11:14:21.423Z"
   },
   {
    "duration": 4,
    "start_time": "2021-12-21T11:15:24.216Z"
   },
   {
    "duration": 674,
    "start_time": "2021-12-21T11:15:25.766Z"
   },
   {
    "duration": 5,
    "start_time": "2021-12-21T11:16:36.487Z"
   },
   {
    "duration": 718,
    "start_time": "2021-12-21T11:16:38.175Z"
   },
   {
    "duration": 366,
    "start_time": "2021-12-21T11:16:56.838Z"
   },
   {
    "duration": 4,
    "start_time": "2021-12-21T11:17:19.735Z"
   },
   {
    "duration": 361,
    "start_time": "2021-12-21T11:17:23.076Z"
   },
   {
    "duration": 671,
    "start_time": "2021-12-21T11:17:37.083Z"
   },
   {
    "duration": 142,
    "start_time": "2021-12-21T11:17:37.756Z"
   },
   {
    "duration": 7,
    "start_time": "2021-12-21T11:17:37.900Z"
   },
   {
    "duration": 28,
    "start_time": "2021-12-21T11:17:37.909Z"
   },
   {
    "duration": 3,
    "start_time": "2021-12-21T11:17:37.939Z"
   },
   {
    "duration": 26,
    "start_time": "2021-12-21T11:17:37.944Z"
   },
   {
    "duration": 9,
    "start_time": "2021-12-21T11:17:37.972Z"
   },
   {
    "duration": 49,
    "start_time": "2021-12-21T11:17:37.984Z"
   },
   {
    "duration": 19,
    "start_time": "2021-12-21T11:17:38.035Z"
   },
   {
    "duration": 25,
    "start_time": "2021-12-21T11:17:38.056Z"
   },
   {
    "duration": 86,
    "start_time": "2021-12-21T11:17:38.082Z"
   },
   {
    "duration": 93,
    "start_time": "2021-12-21T11:17:38.169Z"
   },
   {
    "duration": 64,
    "start_time": "2021-12-21T11:17:38.264Z"
   },
   {
    "duration": 6,
    "start_time": "2021-12-21T11:17:38.330Z"
   },
   {
    "duration": 3,
    "start_time": "2021-12-21T11:17:38.338Z"
   },
   {
    "duration": 11,
    "start_time": "2021-12-21T11:17:38.343Z"
   },
   {
    "duration": 7,
    "start_time": "2021-12-21T11:17:38.356Z"
   },
   {
    "duration": 10,
    "start_time": "2021-12-21T11:17:38.365Z"
   },
   {
    "duration": 10,
    "start_time": "2021-12-21T11:17:38.407Z"
   },
   {
    "duration": 3,
    "start_time": "2021-12-21T11:17:38.419Z"
   },
   {
    "duration": 21,
    "start_time": "2021-12-21T11:17:38.424Z"
   },
   {
    "duration": 15,
    "start_time": "2021-12-21T11:17:38.447Z"
   },
   {
    "duration": 46,
    "start_time": "2021-12-21T11:17:38.465Z"
   },
   {
    "duration": 21,
    "start_time": "2021-12-21T11:17:38.513Z"
   },
   {
    "duration": 19,
    "start_time": "2021-12-21T11:17:38.537Z"
   },
   {
    "duration": 15,
    "start_time": "2021-12-21T11:17:38.558Z"
   },
   {
    "duration": 36,
    "start_time": "2021-12-21T11:17:38.575Z"
   },
   {
    "duration": 22,
    "start_time": "2021-12-21T11:17:38.612Z"
   },
   {
    "duration": 17,
    "start_time": "2021-12-21T11:17:38.636Z"
   },
   {
    "duration": 3,
    "start_time": "2021-12-21T11:17:43.259Z"
   },
   {
    "duration": 745,
    "start_time": "2021-12-21T11:17:46.224Z"
   },
   {
    "duration": 4,
    "start_time": "2021-12-21T11:18:02.629Z"
   },
   {
    "duration": 811,
    "start_time": "2021-12-21T11:18:04.786Z"
   },
   {
    "duration": 4,
    "start_time": "2021-12-21T11:20:56.482Z"
   },
   {
    "duration": 882,
    "start_time": "2021-12-21T11:21:00.313Z"
   },
   {
    "duration": 4,
    "start_time": "2021-12-21T11:21:29.806Z"
   },
   {
    "duration": 1322,
    "start_time": "2021-12-21T11:21:32.952Z"
   },
   {
    "duration": 4,
    "start_time": "2021-12-21T11:21:37.602Z"
   },
   {
    "duration": 1110,
    "start_time": "2021-12-21T11:21:42.905Z"
   },
   {
    "duration": 4,
    "start_time": "2021-12-21T11:22:22.194Z"
   },
   {
    "duration": 782,
    "start_time": "2021-12-21T11:22:24.249Z"
   },
   {
    "duration": 646,
    "start_time": "2021-12-21T11:22:41.719Z"
   },
   {
    "duration": 141,
    "start_time": "2021-12-21T11:22:42.367Z"
   },
   {
    "duration": 8,
    "start_time": "2021-12-21T11:22:42.510Z"
   },
   {
    "duration": 34,
    "start_time": "2021-12-21T11:22:42.520Z"
   },
   {
    "duration": 5,
    "start_time": "2021-12-21T11:22:42.555Z"
   },
   {
    "duration": 25,
    "start_time": "2021-12-21T11:22:42.562Z"
   },
   {
    "duration": 22,
    "start_time": "2021-12-21T11:22:42.589Z"
   },
   {
    "duration": 24,
    "start_time": "2021-12-21T11:22:42.615Z"
   },
   {
    "duration": 20,
    "start_time": "2021-12-21T11:22:42.641Z"
   },
   {
    "duration": 51,
    "start_time": "2021-12-21T11:22:42.663Z"
   },
   {
    "duration": 61,
    "start_time": "2021-12-21T11:22:42.716Z"
   },
   {
    "duration": 109,
    "start_time": "2021-12-21T11:22:42.779Z"
   },
   {
    "duration": 86,
    "start_time": "2021-12-21T11:22:42.890Z"
   },
   {
    "duration": 7,
    "start_time": "2021-12-21T11:22:42.977Z"
   },
   {
    "duration": 21,
    "start_time": "2021-12-21T11:22:42.986Z"
   },
   {
    "duration": 12,
    "start_time": "2021-12-21T11:22:43.009Z"
   },
   {
    "duration": 9,
    "start_time": "2021-12-21T11:22:43.023Z"
   },
   {
    "duration": 11,
    "start_time": "2021-12-21T11:22:43.034Z"
   },
   {
    "duration": 19,
    "start_time": "2021-12-21T11:22:43.047Z"
   },
   {
    "duration": 5,
    "start_time": "2021-12-21T11:22:43.068Z"
   },
   {
    "duration": 53,
    "start_time": "2021-12-21T11:22:43.074Z"
   },
   {
    "duration": 16,
    "start_time": "2021-12-21T11:22:43.129Z"
   },
   {
    "duration": 15,
    "start_time": "2021-12-21T11:22:43.148Z"
   },
   {
    "duration": 42,
    "start_time": "2021-12-21T11:22:43.165Z"
   },
   {
    "duration": 20,
    "start_time": "2021-12-21T11:22:43.209Z"
   },
   {
    "duration": 15,
    "start_time": "2021-12-21T11:22:43.230Z"
   },
   {
    "duration": 6,
    "start_time": "2021-12-21T11:22:43.247Z"
   },
   {
    "duration": 28,
    "start_time": "2021-12-21T11:22:43.255Z"
   },
   {
    "duration": 18,
    "start_time": "2021-12-21T11:22:43.307Z"
   },
   {
    "duration": 5,
    "start_time": "2021-12-21T11:22:46.700Z"
   },
   {
    "duration": 990,
    "start_time": "2021-12-21T11:22:48.598Z"
   },
   {
    "duration": 4,
    "start_time": "2021-12-21T11:25:09.693Z"
   },
   {
    "duration": 1030,
    "start_time": "2021-12-21T11:25:13.452Z"
   },
   {
    "duration": 5,
    "start_time": "2021-12-21T11:29:43.059Z"
   },
   {
    "duration": 4,
    "start_time": "2021-12-21T11:29:55.572Z"
   },
   {
    "duration": 353,
    "start_time": "2021-12-21T11:30:18.659Z"
   },
   {
    "duration": 6,
    "start_time": "2021-12-21T11:30:24.316Z"
   },
   {
    "duration": 5,
    "start_time": "2021-12-21T11:30:36.077Z"
   },
   {
    "duration": 699,
    "start_time": "2021-12-21T11:30:36.109Z"
   },
   {
    "duration": 869,
    "start_time": "2021-12-21T11:31:24.410Z"
   },
   {
    "duration": 4,
    "start_time": "2021-12-21T11:33:20.310Z"
   },
   {
    "duration": 685,
    "start_time": "2021-12-21T11:33:28.786Z"
   },
   {
    "duration": 6,
    "start_time": "2021-12-21T11:37:39.187Z"
   },
   {
    "duration": 5,
    "start_time": "2021-12-21T11:37:43.232Z"
   },
   {
    "duration": 1140,
    "start_time": "2021-12-21T11:37:46.354Z"
   },
   {
    "duration": 4,
    "start_time": "2021-12-21T11:39:16.298Z"
   },
   {
    "duration": 761,
    "start_time": "2021-12-21T11:39:19.112Z"
   },
   {
    "duration": 5,
    "start_time": "2021-12-21T11:39:30.521Z"
   },
   {
    "duration": 24,
    "start_time": "2021-12-21T11:39:33.032Z"
   },
   {
    "duration": 12,
    "start_time": "2021-12-21T11:39:59.103Z"
   },
   {
    "duration": 16,
    "start_time": "2021-12-21T11:40:30.703Z"
   },
   {
    "duration": 13,
    "start_time": "2021-12-21T11:40:32.887Z"
   },
   {
    "duration": 12,
    "start_time": "2021-12-21T11:43:57.303Z"
   },
   {
    "duration": 12,
    "start_time": "2021-12-21T11:44:28.128Z"
   },
   {
    "duration": 11,
    "start_time": "2021-12-21T11:44:38.424Z"
   },
   {
    "duration": 370,
    "start_time": "2021-12-21T11:45:53.248Z"
   },
   {
    "duration": 9,
    "start_time": "2021-12-21T11:46:04.630Z"
   },
   {
    "duration": 8,
    "start_time": "2021-12-21T11:46:06.607Z"
   },
   {
    "duration": 9,
    "start_time": "2021-12-21T11:46:23.158Z"
   },
   {
    "duration": 9,
    "start_time": "2021-12-21T11:46:42.239Z"
   },
   {
    "duration": 11,
    "start_time": "2021-12-21T11:47:32.406Z"
   },
   {
    "duration": 4,
    "start_time": "2021-12-21T11:47:45.182Z"
   },
   {
    "duration": 9,
    "start_time": "2021-12-21T11:47:47.798Z"
   },
   {
    "duration": 4,
    "start_time": "2021-12-21T11:47:50.111Z"
   },
   {
    "duration": 7,
    "start_time": "2021-12-21T11:49:01.110Z"
   },
   {
    "duration": 4,
    "start_time": "2021-12-21T11:49:02.212Z"
   },
   {
    "duration": 607,
    "start_time": "2021-12-21T11:50:49.436Z"
   },
   {
    "duration": 145,
    "start_time": "2021-12-21T11:50:51.323Z"
   },
   {
    "duration": 6,
    "start_time": "2021-12-21T11:50:52.846Z"
   },
   {
    "duration": 24,
    "start_time": "2021-12-21T11:50:54.666Z"
   },
   {
    "duration": 3,
    "start_time": "2021-12-21T11:50:59.732Z"
   },
   {
    "duration": 24,
    "start_time": "2021-12-21T11:51:01.415Z"
   },
   {
    "duration": 9,
    "start_time": "2021-12-21T11:51:02.813Z"
   },
   {
    "duration": 28,
    "start_time": "2021-12-21T11:51:09.252Z"
   },
   {
    "duration": 933,
    "start_time": "2021-12-21T11:52:01.045Z"
   },
   {
    "duration": 28,
    "start_time": "2021-12-21T11:52:36.292Z"
   },
   {
    "duration": 39,
    "start_time": "2021-12-21T11:52:53.564Z"
   },
   {
    "duration": 600,
    "start_time": "2021-12-21T11:53:14.141Z"
   },
   {
    "duration": 139,
    "start_time": "2021-12-21T11:53:14.743Z"
   },
   {
    "duration": 8,
    "start_time": "2021-12-21T11:53:14.884Z"
   },
   {
    "duration": 29,
    "start_time": "2021-12-21T11:53:14.894Z"
   },
   {
    "duration": 3,
    "start_time": "2021-12-21T11:53:14.924Z"
   },
   {
    "duration": 22,
    "start_time": "2021-12-21T11:53:14.929Z"
   },
   {
    "duration": 9,
    "start_time": "2021-12-21T11:53:14.953Z"
   },
   {
    "duration": 28,
    "start_time": "2021-12-21T11:53:22.393Z"
   },
   {
    "duration": 23,
    "start_time": "2021-12-21T11:53:28.990Z"
   },
   {
    "duration": 78,
    "start_time": "2021-12-21T11:53:32.014Z"
   },
   {
    "duration": 71,
    "start_time": "2021-12-21T11:53:35.606Z"
   },
   {
    "duration": 59,
    "start_time": "2021-12-21T11:53:38.012Z"
   },
   {
    "duration": 6,
    "start_time": "2021-12-21T11:53:42.517Z"
   },
   {
    "duration": 4,
    "start_time": "2021-12-21T11:53:48.140Z"
   },
   {
    "duration": 11,
    "start_time": "2021-12-21T11:53:50.518Z"
   },
   {
    "duration": 9,
    "start_time": "2021-12-21T11:53:53.566Z"
   },
   {
    "duration": 12,
    "start_time": "2021-12-21T11:53:58.060Z"
   },
   {
    "duration": 11,
    "start_time": "2021-12-21T11:54:01.312Z"
   },
   {
    "duration": 4,
    "start_time": "2021-12-21T11:54:16.003Z"
   },
   {
    "duration": 19,
    "start_time": "2021-12-21T11:54:18.183Z"
   },
   {
    "duration": 15,
    "start_time": "2021-12-21T11:54:21.124Z"
   },
   {
    "duration": 15,
    "start_time": "2021-12-21T11:54:21.884Z"
   },
   {
    "duration": 15,
    "start_time": "2021-12-21T11:54:22.540Z"
   },
   {
    "duration": 19,
    "start_time": "2021-12-21T11:54:23.092Z"
   },
   {
    "duration": 15,
    "start_time": "2021-12-21T11:54:23.764Z"
   },
   {
    "duration": 7,
    "start_time": "2021-12-21T11:54:53.867Z"
   },
   {
    "duration": 21,
    "start_time": "2021-12-21T11:54:56.941Z"
   },
   {
    "duration": 17,
    "start_time": "2021-12-21T11:55:27.848Z"
   },
   {
    "duration": 4,
    "start_time": "2021-12-21T11:55:38.668Z"
   },
   {
    "duration": 22,
    "start_time": "2021-12-21T11:55:43.113Z"
   },
   {
    "duration": 13,
    "start_time": "2021-12-21T11:55:54.619Z"
   },
   {
    "duration": 17,
    "start_time": "2021-12-21T11:56:29.158Z"
   },
   {
    "duration": 12,
    "start_time": "2021-12-21T11:56:31.843Z"
   },
   {
    "duration": 8,
    "start_time": "2021-12-21T11:58:14.571Z"
   },
   {
    "duration": 427,
    "start_time": "2021-12-21T11:58:20.668Z"
   },
   {
    "duration": 431,
    "start_time": "2021-12-21T11:58:35.155Z"
   },
   {
    "duration": 8,
    "start_time": "2021-12-21T11:59:25.131Z"
   },
   {
    "duration": 5,
    "start_time": "2021-12-21T11:59:27.826Z"
   },
   {
    "duration": 7,
    "start_time": "2021-12-21T12:00:10.163Z"
   },
   {
    "duration": 5,
    "start_time": "2021-12-21T12:00:16.243Z"
   },
   {
    "duration": 5,
    "start_time": "2021-12-21T12:00:51.355Z"
   },
   {
    "duration": 352,
    "start_time": "2021-12-21T12:01:10.946Z"
   },
   {
    "duration": 352,
    "start_time": "2021-12-21T12:01:23.923Z"
   },
   {
    "duration": 331,
    "start_time": "2021-12-21T12:01:42.235Z"
   },
   {
    "duration": 360,
    "start_time": "2021-12-21T12:02:06.307Z"
   },
   {
    "duration": 329,
    "start_time": "2021-12-21T12:02:24.995Z"
   },
   {
    "duration": 618,
    "start_time": "2021-12-21T12:02:42.539Z"
   },
   {
    "duration": 143,
    "start_time": "2021-12-21T12:02:43.159Z"
   },
   {
    "duration": 7,
    "start_time": "2021-12-21T12:02:43.304Z"
   },
   {
    "duration": 25,
    "start_time": "2021-12-21T12:02:43.313Z"
   },
   {
    "duration": 3,
    "start_time": "2021-12-21T12:02:43.340Z"
   },
   {
    "duration": 24,
    "start_time": "2021-12-21T12:02:43.345Z"
   },
   {
    "duration": 9,
    "start_time": "2021-12-21T12:02:43.370Z"
   },
   {
    "duration": 24,
    "start_time": "2021-12-21T12:02:43.406Z"
   },
   {
    "duration": 27,
    "start_time": "2021-12-21T12:02:43.433Z"
   },
   {
    "duration": 45,
    "start_time": "2021-12-21T12:02:43.462Z"
   },
   {
    "duration": 60,
    "start_time": "2021-12-21T12:02:43.509Z"
   },
   {
    "duration": 87,
    "start_time": "2021-12-21T12:02:43.571Z"
   },
   {
    "duration": 60,
    "start_time": "2021-12-21T12:02:43.660Z"
   },
   {
    "duration": 7,
    "start_time": "2021-12-21T12:02:43.721Z"
   },
   {
    "duration": 3,
    "start_time": "2021-12-21T12:02:43.729Z"
   },
   {
    "duration": 14,
    "start_time": "2021-12-21T12:02:43.734Z"
   },
   {
    "duration": 7,
    "start_time": "2021-12-21T12:02:43.750Z"
   },
   {
    "duration": 11,
    "start_time": "2021-12-21T12:02:43.759Z"
   },
   {
    "duration": 39,
    "start_time": "2021-12-21T12:02:43.771Z"
   },
   {
    "duration": 3,
    "start_time": "2021-12-21T12:02:43.812Z"
   },
   {
    "duration": 22,
    "start_time": "2021-12-21T12:02:43.817Z"
   },
   {
    "duration": 13,
    "start_time": "2021-12-21T12:02:43.840Z"
   },
   {
    "duration": 13,
    "start_time": "2021-12-21T12:02:43.855Z"
   },
   {
    "duration": 43,
    "start_time": "2021-12-21T12:02:43.870Z"
   },
   {
    "duration": 16,
    "start_time": "2021-12-21T12:02:43.915Z"
   },
   {
    "duration": 15,
    "start_time": "2021-12-21T12:02:43.933Z"
   },
   {
    "duration": 5,
    "start_time": "2021-12-21T12:02:43.951Z"
   },
   {
    "duration": 21,
    "start_time": "2021-12-21T12:02:43.958Z"
   },
   {
    "duration": 18,
    "start_time": "2021-12-21T12:02:44.007Z"
   },
   {
    "duration": 3,
    "start_time": "2021-12-21T12:02:44.027Z"
   },
   {
    "duration": 22,
    "start_time": "2021-12-21T12:02:44.032Z"
   },
   {
    "duration": 13,
    "start_time": "2021-12-21T12:02:44.056Z"
   },
   {
    "duration": 47,
    "start_time": "2021-12-21T12:02:44.071Z"
   },
   {
    "duration": 12,
    "start_time": "2021-12-21T12:02:44.120Z"
   },
   {
    "duration": 10,
    "start_time": "2021-12-21T12:02:44.134Z"
   },
   {
    "duration": 8,
    "start_time": "2021-12-21T12:02:51.231Z"
   },
   {
    "duration": 5,
    "start_time": "2021-12-21T12:02:54.070Z"
   },
   {
    "duration": 405,
    "start_time": "2021-12-21T12:03:16.175Z"
   },
   {
    "duration": 353,
    "start_time": "2021-12-21T12:03:44.448Z"
   },
   {
    "duration": 601,
    "start_time": "2021-12-21T12:03:59.034Z"
   },
   {
    "duration": 144,
    "start_time": "2021-12-21T12:03:59.637Z"
   },
   {
    "duration": 9,
    "start_time": "2021-12-21T12:03:59.783Z"
   },
   {
    "duration": 34,
    "start_time": "2021-12-21T12:03:59.795Z"
   },
   {
    "duration": 3,
    "start_time": "2021-12-21T12:03:59.832Z"
   },
   {
    "duration": 35,
    "start_time": "2021-12-21T12:03:59.838Z"
   },
   {
    "duration": 9,
    "start_time": "2021-12-21T12:03:59.875Z"
   },
   {
    "duration": 38,
    "start_time": "2021-12-21T12:03:59.886Z"
   },
   {
    "duration": 28,
    "start_time": "2021-12-21T12:03:59.928Z"
   },
   {
    "duration": 48,
    "start_time": "2021-12-21T12:03:59.959Z"
   },
   {
    "duration": 61,
    "start_time": "2021-12-21T12:04:00.009Z"
   },
   {
    "duration": 86,
    "start_time": "2021-12-21T12:04:00.072Z"
   },
   {
    "duration": 65,
    "start_time": "2021-12-21T12:04:00.160Z"
   },
   {
    "duration": 6,
    "start_time": "2021-12-21T12:04:00.227Z"
   },
   {
    "duration": 17,
    "start_time": "2021-12-21T12:04:00.235Z"
   },
   {
    "duration": 17,
    "start_time": "2021-12-21T12:04:00.254Z"
   },
   {
    "duration": 33,
    "start_time": "2021-12-21T12:04:00.273Z"
   },
   {
    "duration": 17,
    "start_time": "2021-12-21T12:04:00.308Z"
   },
   {
    "duration": 23,
    "start_time": "2021-12-21T12:04:00.328Z"
   },
   {
    "duration": 6,
    "start_time": "2021-12-21T12:04:00.353Z"
   },
   {
    "duration": 26,
    "start_time": "2021-12-21T12:04:00.361Z"
   },
   {
    "duration": 18,
    "start_time": "2021-12-21T12:04:00.389Z"
   },
   {
    "duration": 17,
    "start_time": "2021-12-21T12:04:00.409Z"
   },
   {
    "duration": 16,
    "start_time": "2021-12-21T12:04:00.428Z"
   },
   {
    "duration": 18,
    "start_time": "2021-12-21T12:04:00.447Z"
   },
   {
    "duration": 50,
    "start_time": "2021-12-21T12:04:00.467Z"
   },
   {
    "duration": 7,
    "start_time": "2021-12-21T12:04:00.522Z"
   },
   {
    "duration": 35,
    "start_time": "2021-12-21T12:04:00.532Z"
   },
   {
    "duration": 39,
    "start_time": "2021-12-21T12:04:00.569Z"
   },
   {
    "duration": 5,
    "start_time": "2021-12-21T12:04:00.610Z"
   },
   {
    "duration": 31,
    "start_time": "2021-12-21T12:04:00.617Z"
   },
   {
    "duration": 13,
    "start_time": "2021-12-21T12:04:00.650Z"
   },
   {
    "duration": 16,
    "start_time": "2021-12-21T12:04:00.665Z"
   },
   {
    "duration": 33,
    "start_time": "2021-12-21T12:04:00.683Z"
   },
   {
    "duration": 18,
    "start_time": "2021-12-21T12:04:00.718Z"
   },
   {
    "duration": 8,
    "start_time": "2021-12-21T12:04:03.754Z"
   },
   {
    "duration": 4,
    "start_time": "2021-12-21T12:04:15.627Z"
   },
   {
    "duration": 778,
    "start_time": "2021-12-21T12:04:40.412Z"
   },
   {
    "duration": 148,
    "start_time": "2021-12-21T12:04:41.193Z"
   },
   {
    "duration": 8,
    "start_time": "2021-12-21T12:04:41.343Z"
   },
   {
    "duration": 28,
    "start_time": "2021-12-21T12:04:41.353Z"
   },
   {
    "duration": 5,
    "start_time": "2021-12-21T12:04:41.383Z"
   },
   {
    "duration": 32,
    "start_time": "2021-12-21T12:04:41.390Z"
   },
   {
    "duration": 15,
    "start_time": "2021-12-21T12:04:41.423Z"
   },
   {
    "duration": 25,
    "start_time": "2021-12-21T12:04:41.440Z"
   },
   {
    "duration": 50,
    "start_time": "2021-12-21T12:04:41.468Z"
   },
   {
    "duration": 24,
    "start_time": "2021-12-21T12:04:41.519Z"
   },
   {
    "duration": 78,
    "start_time": "2021-12-21T12:04:41.545Z"
   },
   {
    "duration": 68,
    "start_time": "2021-12-21T12:04:41.625Z"
   },
   {
    "duration": 59,
    "start_time": "2021-12-21T12:04:41.695Z"
   },
   {
    "duration": 6,
    "start_time": "2021-12-21T12:04:41.756Z"
   },
   {
    "duration": 6,
    "start_time": "2021-12-21T12:04:41.764Z"
   },
   {
    "duration": 35,
    "start_time": "2021-12-21T12:04:41.772Z"
   },
   {
    "duration": 11,
    "start_time": "2021-12-21T12:04:41.808Z"
   },
   {
    "duration": 13,
    "start_time": "2021-12-21T12:04:41.821Z"
   },
   {
    "duration": 10,
    "start_time": "2021-12-21T12:04:41.835Z"
   },
   {
    "duration": 3,
    "start_time": "2021-12-21T12:04:41.847Z"
   },
   {
    "duration": 22,
    "start_time": "2021-12-21T12:04:41.852Z"
   },
   {
    "duration": 39,
    "start_time": "2021-12-21T12:04:41.876Z"
   },
   {
    "duration": 14,
    "start_time": "2021-12-21T12:04:41.918Z"
   },
   {
    "duration": 14,
    "start_time": "2021-12-21T12:04:41.934Z"
   },
   {
    "duration": 17,
    "start_time": "2021-12-21T12:04:41.950Z"
   },
   {
    "duration": 49,
    "start_time": "2021-12-21T12:04:41.968Z"
   },
   {
    "duration": 6,
    "start_time": "2021-12-21T12:04:42.019Z"
   },
   {
    "duration": 20,
    "start_time": "2021-12-21T12:04:42.027Z"
   },
   {
    "duration": 18,
    "start_time": "2021-12-21T12:04:42.049Z"
   },
   {
    "duration": 4,
    "start_time": "2021-12-21T12:04:42.068Z"
   },
   {
    "duration": 19,
    "start_time": "2021-12-21T12:04:42.106Z"
   },
   {
    "duration": 12,
    "start_time": "2021-12-21T12:04:42.127Z"
   },
   {
    "duration": 16,
    "start_time": "2021-12-21T12:04:42.141Z"
   },
   {
    "duration": 11,
    "start_time": "2021-12-21T12:04:42.159Z"
   },
   {
    "duration": 41,
    "start_time": "2021-12-21T12:04:42.172Z"
   },
   {
    "duration": 4,
    "start_time": "2021-12-21T12:04:42.215Z"
   },
   {
    "duration": 9,
    "start_time": "2021-12-21T12:04:42.220Z"
   },
   {
    "duration": 805,
    "start_time": "2021-12-21T20:41:00.899Z"
   },
   {
    "duration": 198,
    "start_time": "2021-12-21T20:41:01.707Z"
   },
   {
    "duration": 10,
    "start_time": "2021-12-21T20:41:01.908Z"
   },
   {
    "duration": 53,
    "start_time": "2021-12-21T20:41:01.921Z"
   },
   {
    "duration": 5,
    "start_time": "2021-12-21T20:41:01.977Z"
   },
   {
    "duration": 30,
    "start_time": "2021-12-21T20:41:01.985Z"
   },
   {
    "duration": 12,
    "start_time": "2021-12-21T20:41:02.018Z"
   },
   {
    "duration": 38,
    "start_time": "2021-12-21T20:41:02.060Z"
   },
   {
    "duration": 64,
    "start_time": "2021-12-21T20:41:02.103Z"
   },
   {
    "duration": 31,
    "start_time": "2021-12-21T20:41:02.170Z"
   },
   {
    "duration": 108,
    "start_time": "2021-12-21T20:41:02.204Z"
   },
   {
    "duration": 115,
    "start_time": "2021-12-21T20:41:02.315Z"
   },
   {
    "duration": 86,
    "start_time": "2021-12-21T20:41:02.432Z"
   },
   {
    "duration": 7,
    "start_time": "2021-12-21T20:41:02.521Z"
   },
   {
    "duration": 4,
    "start_time": "2021-12-21T20:41:02.531Z"
   },
   {
    "duration": 14,
    "start_time": "2021-12-21T20:41:02.559Z"
   },
   {
    "duration": 12,
    "start_time": "2021-12-21T20:41:02.576Z"
   },
   {
    "duration": 15,
    "start_time": "2021-12-21T20:41:02.591Z"
   },
   {
    "duration": 13,
    "start_time": "2021-12-21T20:41:02.608Z"
   },
   {
    "duration": 5,
    "start_time": "2021-12-21T20:41:02.660Z"
   },
   {
    "duration": 32,
    "start_time": "2021-12-21T20:41:02.668Z"
   },
   {
    "duration": 20,
    "start_time": "2021-12-21T20:41:02.703Z"
   },
   {
    "duration": 46,
    "start_time": "2021-12-21T20:41:02.726Z"
   },
   {
    "duration": 18,
    "start_time": "2021-12-21T20:41:02.774Z"
   },
   {
    "duration": 20,
    "start_time": "2021-12-21T20:41:02.794Z"
   },
   {
    "duration": 53,
    "start_time": "2021-12-21T20:41:02.816Z"
   },
   {
    "duration": 9,
    "start_time": "2021-12-21T20:41:02.874Z"
   },
   {
    "duration": 35,
    "start_time": "2021-12-21T20:41:02.886Z"
   },
   {
    "duration": 55,
    "start_time": "2021-12-21T20:41:02.924Z"
   },
   {
    "duration": 7,
    "start_time": "2021-12-21T20:41:02.982Z"
   },
   {
    "duration": 30,
    "start_time": "2021-12-21T20:41:02.992Z"
   },
   {
    "duration": 52,
    "start_time": "2021-12-21T20:41:03.025Z"
   },
   {
    "duration": 26,
    "start_time": "2021-12-21T20:41:03.080Z"
   },
   {
    "duration": 59,
    "start_time": "2021-12-21T20:41:03.109Z"
   },
   {
    "duration": 13,
    "start_time": "2021-12-21T20:41:03.171Z"
   },
   {
    "duration": 7,
    "start_time": "2021-12-21T20:41:03.187Z"
   },
   {
    "duration": 12,
    "start_time": "2021-12-21T20:41:03.197Z"
   },
   {
    "duration": 51,
    "start_time": "2021-12-21T20:41:03.212Z"
   }
  ],
  "colab": {
   "collapsed_sections": [
    "E0vqbgi9ay0H",
    "VUC88oWjTJw2"
   ],
   "name": "yandex_music_project_2021.2.ipynb",
   "provenance": []
  },
  "kernelspec": {
   "display_name": "Python 3 (ipykernel)",
   "language": "python",
   "name": "python3"
  },
  "language_info": {
   "codemirror_mode": {
    "name": "ipython",
    "version": 3
   },
   "file_extension": ".py",
   "mimetype": "text/x-python",
   "name": "python",
   "nbconvert_exporter": "python",
   "pygments_lexer": "ipython3",
   "version": "3.9.7"
  },
  "toc": {
   "base_numbering": 1,
   "nav_menu": {},
   "number_sections": true,
   "sideBar": true,
   "skip_h1_title": true,
   "title_cell": "Table of Contents",
   "title_sidebar": "Contents",
   "toc_cell": false,
   "toc_position": {},
   "toc_section_display": true,
   "toc_window_display": true
  }
 },
 "nbformat": 4,
 "nbformat_minor": 1
}
